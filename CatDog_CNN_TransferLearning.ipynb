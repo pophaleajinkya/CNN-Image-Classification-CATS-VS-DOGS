{
  "cells": [
    {
      "cell_type": "markdown",
      "metadata": {
        "id": "EUmOF3I3Vsh8"
      },
      "source": [
        "\n",
        "## Improving the Performance of CNNs: Classifying Cats vs. Dogs"
      ]
    },
    {
      "cell_type": "markdown",
      "metadata": {
        "id": "U0YZr63Fw_f6"
      },
      "source": [
        "<font color=\"red\">  Before you start running the code in this notebook, change the runtime type to GPU to speed up the training process.\n",
        "\n",
        "(Runtime -> Change runtime type -> Hardware accelerator -> GPU). </font>"
      ]
    },
    {
      "cell_type": "markdown",
      "metadata": {
        "id": "JcWdEKZ8ldrm"
      },
      "source": [
        "In this notebook, we will continue working on the image classification problem we started last week. Recall that our goal was to develop CNNs to classify images as \"dogs\" or \"cats\" in a dataset containing 4000 images of cats and dogs. We had 2000 images for training, 1000 for validation, and 1000 for testing."
      ]
    },
    {
      "cell_type": "markdown",
      "metadata": {
        "id": "a4KvjNTV1i_D"
      },
      "source": [
        "First, add the `cats_dogs_small` folder from [here](https://drive.google.com/drive/folders/11-2z9P45FtJJPm9LbipVMAnNZ36kMQUH) to your Google Drive. For example, you can drag and drop the `cats_dogs_small` folder into your \"My Drive\"; this will add a shortcut to the original folder in your \"My Drive\". By doing so, you can run your code directly on the data that are stored on my Google Drive account without the need to download the images and upload them to your Drive."
      ]
    },
    {
      "cell_type": "markdown",
      "metadata": {
        "id": "ip41KrcE4KKb"
      },
      "source": [
        "The next step is to mount your Google Drive so that you can use its content (e.g., the datasets) in your notebook."
      ]
    },
    {
      "cell_type": "code",
      "execution_count": null,
      "metadata": {
        "colab": {
          "base_uri": "https://localhost:8080/"
        },
        "id": "bz8W1jEp4ABF",
        "outputId": "8d3c0d80-eec3-4e24-f10c-3445d5cba77b"
      },
      "outputs": [
        {
          "name": "stdout",
          "output_type": "stream",
          "text": [
            "Mounted at /content/drive\n"
          ]
        }
      ],
      "source": [
        "# Mount the drive\n",
        "from google.colab import drive\n",
        "drive.mount('/content/drive', force_remount=True)\n",
        "\n",
        "# The first time that you run this cell, you will need to authorize access in your drive.\n",
        "# Go to the link and copy the authorization code"
      ]
    },
    {
      "cell_type": "code",
      "execution_count": null,
      "metadata": {
        "id": "sRcn4WfZ7IoN"
      },
      "outputs": [],
      "source": [
        "import os\n",
        "# Define base directory where the \"cats_dogs_small\" folder reside\n",
        "# My path is the following:\n",
        "base_dir = '/content/drive/My Drive/Data/CNN_Datasets/cats_dogs_small'\n",
        "# This is the path to where my files are - your path will be different.\n",
        "# Modify the path above to where the \"cats_dogs_small\" folder is located on your drive.\n",
        "\n",
        "# Define directories of where the training, validation and test sets reside\n",
        "train_dir = os.path.join(base_dir, 'train')\n",
        "validation_dir = os.path.join(base_dir, 'validation')\n",
        "test_dir = os.path.join(base_dir, 'test')\n",
        "\n",
        "# Define directories of where the cats and dogs images reside\n",
        "train_cats_dir = os.path.join(base_dir, 'train/cats')\n",
        "train_dogs_dir = os.path.join(base_dir, 'train/dogs')\n",
        "validation_cats_dir = os.path.join(base_dir, 'validation/cats')\n",
        "validation_dogs_dir = os.path.join(base_dir, 'validation/dogs')\n",
        "test_cats_dir = os.path.join(base_dir, 'test/cats')\n",
        "test_dogs_dir = os.path.join(base_dir, 'test/dogs')"
      ]
    },
    {
      "cell_type": "code",
      "execution_count": null,
      "metadata": {
        "colab": {
          "base_uri": "https://localhost:8080/",
          "height": 126
        },
        "id": "5J0N8aV09Kzs",
        "outputId": "441904d5-adda-47af-8ee7-7ced986b39c2"
      },
      "outputs": [
        {
          "name": "stdout",
          "output_type": "stream",
          "text": [
            "Total training cat images: 1000\n",
            "Total training dog images: 1000\n",
            "Total validation cat images: 500\n",
            "Total validation dog images: 500\n",
            "Total test cat images: 500\n",
            "Total test dog images: 500\n"
          ]
        }
      ],
      "source": [
        "# Let's check the number of images in each set\n",
        "print('Total training cat images:', len(os.listdir(train_cats_dir)))\n",
        "print('Total training dog images:', len(os.listdir(train_dogs_dir)))\n",
        "print('Total validation cat images:', len(os.listdir(validation_cats_dir)))\n",
        "print('Total validation dog images:', len(os.listdir(validation_dogs_dir)))\n",
        "print('Total test cat images:', len(os.listdir(test_cats_dir)))\n",
        "print('Total test dog images:', len(os.listdir(test_dogs_dir)))"
      ]
    },
    {
      "cell_type": "markdown",
      "metadata": {
        "id": "6uQC6vjvldsF"
      },
      "source": [
        "Let's use the code we had from the previous notebook to develop our base model without any regularization."
      ]
    },
    {
      "cell_type": "code",
      "execution_count": null,
      "metadata": {
        "id": "W6VQ3z3xldsF"
      },
      "outputs": [],
      "source": [
        "from tensorflow.keras import models\n",
        "from tensorflow.keras import layers\n",
        "\n",
        "# Build the model\n",
        "model1 = models.Sequential()\n",
        "\n",
        "model1.add(layers.Conv2D(32, (3, 3), activation='relu', input_shape=(150, 150, 3)))\n",
        "model1.add(layers.MaxPooling2D((2, 2)))\n",
        "\n",
        "model1.add(layers.Conv2D(64, (3, 3), activation='relu'))\n",
        "model1.add(layers.MaxPooling2D((2, 2)))\n",
        "\n",
        "model1.add(layers.Conv2D(128, (3, 3), activation='relu'))\n",
        "model1.add(layers.MaxPooling2D((2, 2)))\n",
        "\n",
        "model1.add(layers.Conv2D(128, (3, 3), activation='relu'))\n",
        "model1.add(layers.MaxPooling2D((2, 2)))\n",
        "\n",
        "model1.add(layers.Flatten())\n",
        "\n",
        "model1.add(layers.Dense(256, activation='relu'))\n",
        "model1.add(layers.Dense(1, activation='sigmoid'))"
      ]
    },
    {
      "cell_type": "code",
      "execution_count": null,
      "metadata": {
        "id": "cMEEPSfHldsN"
      },
      "outputs": [],
      "source": [
        "model1.compile(loss='binary_crossentropy',\n",
        "               optimizer='rmsprop',\n",
        "               metrics=['accuracy'])"
      ]
    },
    {
      "cell_type": "markdown",
      "metadata": {
        "id": "plRvz9BC4xoE"
      },
      "source": [
        "Next, we use `ImageDataGenerator` to automatically and quickly read the images, decode them into RGB grids of pixels, convert them into floating point tensors, rescale the pixel values to be between 0 and 1, and create batches of data for training and validation.  "
      ]
    },
    {
      "cell_type": "code",
      "execution_count": null,
      "metadata": {
        "colab": {
          "base_uri": "https://localhost:8080/",
          "height": 53
        },
        "id": "jPB7yqewldsQ",
        "outputId": "ae1b7866-8da7-4d2d-d2af-39e1f86443b2"
      },
      "outputs": [
        {
          "name": "stdout",
          "output_type": "stream",
          "text": [
            "Found 2000 images belonging to 2 classes.\n",
            "Found 1000 images belonging to 2 classes.\n"
          ]
        }
      ],
      "source": [
        "from tensorflow.keras.preprocessing.image import ImageDataGenerator\n",
        "\n",
        "# All images will be rescaled by 1./255\n",
        "train_datagen = ImageDataGenerator(rescale=1./255)\n",
        "validation_datagen = ImageDataGenerator(rescale=1./255)\n",
        "\n",
        "train_generator = train_datagen.flow_from_directory(\n",
        "        # This is the directory where our training data reside\n",
        "        train_dir,\n",
        "        # We want all images to be resized to 150x150\n",
        "        target_size=(150, 150),\n",
        "        # Telling the data generator to prepare data in batches of size 20\n",
        "        batch_size=20,\n",
        "        # Since we use binary_crossentropy loss, we need binary labels\n",
        "        class_mode='binary')\n",
        "        # Note: If our problem was a multi-class single-label classification,\n",
        "        # we would use categorical_crossentropy loss and set class_mode to 'categorical'\n",
        "\n",
        "validation_generator = validation_datagen.flow_from_directory(\n",
        "        validation_dir,\n",
        "        target_size=(150, 150),\n",
        "        batch_size=20,\n",
        "        class_mode='binary')"
      ]
    },
    {
      "cell_type": "markdown",
      "metadata": {
        "id": "wE54wZ6aldsV"
      },
      "source": [
        "Now, we are ready to train our model using `model.fit`. Recall that we are going to use Python generators to create training and validation batches and pass them to `model.fit`. I am going to train \"model1\" again below, so the results will be slightly different than the previous time due to random initialization of filter values (weights) and biases."
      ]
    },
    {
      "cell_type": "code",
      "execution_count": null,
      "metadata": {
        "colab": {
          "base_uri": "https://localhost:8080/",
          "height": 764
        },
        "id": "Bk3GtmLi6EZf",
        "outputId": "c0ce3188-0743-4430-8252-5861738b2a93"
      },
      "outputs": [
        {
          "name": "stdout",
          "output_type": "stream",
          "text": [
            "Epoch 1/20\n",
            "100/100 [==============================] - 13s 130ms/step - loss: 0.7199 - accuracy: 0.5210 - val_loss: 0.6966 - val_accuracy: 0.5000\n",
            "Epoch 2/20\n",
            "100/100 [==============================] - 13s 127ms/step - loss: 0.6978 - accuracy: 0.5705 - val_loss: 0.6514 - val_accuracy: 0.6440\n",
            "Epoch 3/20\n",
            "100/100 [==============================] - 13s 126ms/step - loss: 0.6471 - accuracy: 0.6460 - val_loss: 0.5987 - val_accuracy: 0.6700\n",
            "Epoch 4/20\n",
            "100/100 [==============================] - 13s 127ms/step - loss: 0.5713 - accuracy: 0.7040 - val_loss: 0.6204 - val_accuracy: 0.6530\n",
            "Epoch 5/20\n",
            "100/100 [==============================] - 13s 128ms/step - loss: 0.5264 - accuracy: 0.7430 - val_loss: 0.5636 - val_accuracy: 0.7030\n",
            "Epoch 6/20\n",
            "100/100 [==============================] - 13s 126ms/step - loss: 0.4673 - accuracy: 0.7785 - val_loss: 0.6417 - val_accuracy: 0.7160\n",
            "Epoch 7/20\n",
            "100/100 [==============================] - 13s 127ms/step - loss: 0.4325 - accuracy: 0.7990 - val_loss: 0.5923 - val_accuracy: 0.7110\n",
            "Epoch 8/20\n",
            "100/100 [==============================] - 13s 129ms/step - loss: 0.3652 - accuracy: 0.8330 - val_loss: 0.5838 - val_accuracy: 0.7120\n",
            "Epoch 9/20\n",
            "100/100 [==============================] - 13s 126ms/step - loss: 0.3128 - accuracy: 0.8600 - val_loss: 0.7271 - val_accuracy: 0.7120\n",
            "Epoch 10/20\n",
            "100/100 [==============================] - 13s 127ms/step - loss: 0.2633 - accuracy: 0.8920 - val_loss: 0.7387 - val_accuracy: 0.7000\n",
            "Epoch 11/20\n",
            "100/100 [==============================] - 14s 141ms/step - loss: 0.2064 - accuracy: 0.9125 - val_loss: 0.8236 - val_accuracy: 0.7020\n",
            "Epoch 12/20\n",
            "100/100 [==============================] - 13s 128ms/step - loss: 0.1717 - accuracy: 0.9310 - val_loss: 0.8186 - val_accuracy: 0.7340\n",
            "Epoch 13/20\n",
            "100/100 [==============================] - 13s 128ms/step - loss: 0.1344 - accuracy: 0.9515 - val_loss: 1.0417 - val_accuracy: 0.7210\n",
            "Epoch 14/20\n",
            "100/100 [==============================] - 13s 128ms/step - loss: 0.0983 - accuracy: 0.9615 - val_loss: 1.4123 - val_accuracy: 0.7320\n",
            "Epoch 15/20\n",
            "100/100 [==============================] - 13s 127ms/step - loss: 0.0943 - accuracy: 0.9670 - val_loss: 1.9859 - val_accuracy: 0.6860\n",
            "Epoch 16/20\n",
            "100/100 [==============================] - 13s 128ms/step - loss: 0.0885 - accuracy: 0.9705 - val_loss: 1.6175 - val_accuracy: 0.7450\n",
            "Epoch 17/20\n",
            "100/100 [==============================] - 13s 126ms/step - loss: 0.0734 - accuracy: 0.9780 - val_loss: 1.4331 - val_accuracy: 0.7280\n",
            "Epoch 18/20\n",
            "100/100 [==============================] - 13s 127ms/step - loss: 0.0593 - accuracy: 0.9855 - val_loss: 2.0087 - val_accuracy: 0.7280\n",
            "Epoch 19/20\n",
            "100/100 [==============================] - 13s 128ms/step - loss: 0.0633 - accuracy: 0.9795 - val_loss: 1.6216 - val_accuracy: 0.7340\n",
            "Epoch 20/20\n",
            "100/100 [==============================] - 13s 127ms/step - loss: 0.0552 - accuracy: 0.9830 - val_loss: 2.0438 - val_accuracy: 0.7360\n"
          ]
        }
      ],
      "source": [
        "model1_history = model1.fit(\n",
        "      train_generator,\n",
        "      epochs=20,\n",
        "      validation_data=validation_generator)"
      ]
    },
    {
      "cell_type": "markdown",
      "metadata": {
        "id": "yPjJUF76ldsc"
      },
      "source": [
        "Let's plot the loss of the model during training."
      ]
    },
    {
      "cell_type": "code",
      "execution_count": null,
      "metadata": {
        "colab": {
          "base_uri": "https://localhost:8080/",
          "height": 303
        },
        "id": "-1gf21JStPBO",
        "outputId": "bde6ef6b-eed4-4385-89e4-74d04d43358a"
      },
      "outputs": [
        {
          "data": {
            "text/plain": [
              "<matplotlib.legend.Legend at 0x7efecb398f28>"
            ]
          },
          "execution_count": 37,
          "metadata": {
            "tags": []
          },
          "output_type": "execute_result"
        },
        {
          "data": {
            "image/png": "[encoded data removed]",
            "text/plain": [
              "<Figure size 432x288 with 1 Axes>"
            ]
          },
          "metadata": {
            "tags": []
          },
          "output_type": "display_data"
        }
      ],
      "source": [
        "import matplotlib.pyplot as plt\n",
        "import seaborn as sns\n",
        "sns.set()\n",
        "\n",
        "train_loss1 = model1_history.history['loss']\n",
        "val_loss1 = model1_history.history['val_loss']\n",
        "\n",
        "epochs = range(1, len(train_loss1) + 1)\n",
        "\n",
        "plt.plot(epochs, train_loss1, label = 'Training Loss')\n",
        "plt.plot(epochs, val_loss1, label = 'Validation Loss')\n",
        "plt.xlabel('Epochs')\n",
        "plt.ylabel('Loss')\n",
        "plt.legend()"
      ]
    },
    {
      "cell_type": "markdown",
      "metadata": {
        "id": "9FkreZX2ldse"
      },
      "source": [
        "These plots are demonstrating overfitting. Our validation loss reaches its minimum after 8 epochs then it increases, while the training loss keeps decreasing until it reaches nearly 0.\n",
        "\n",
        "Because we only have relatively few training samples (2000), overfitting is going to be our number one concern. You already know about a\n",
        "number of techniques that can help mitigate overfitting, such as dropout and weight decay (e.g., L2 regularization)."
      ]
    },
    {
      "cell_type": "markdown",
      "metadata": {
        "id": "u9wxMDL4wSIZ"
      },
      "source": [
        "Let's evaluate the model on test data."
      ]
    },
    {
      "cell_type": "code",
      "execution_count": null,
      "metadata": {
        "colab": {
          "base_uri": "https://localhost:8080/",
          "height": 72
        },
        "id": "YeTr-9lcwRj_",
        "outputId": "ab22ecd0-f03d-45fb-ff68-56aafeb31f18"
      },
      "outputs": [
        {
          "name": "stdout",
          "output_type": "stream",
          "text": [
            "Found 1000 images belonging to 2 classes.\n",
            "50/50 [==============================] - 420s 8s/step - loss: 2.1171 - accuracy: 0.7170\n"
          ]
        },
        {
          "data": {
            "text/plain": [
              "[2.117138147354126, 0.7170000076293945]"
            ]
          },
          "execution_count": 36,
          "metadata": {
            "tags": []
          },
          "output_type": "execute_result"
        }
      ],
      "source": [
        "test_datagen = ImageDataGenerator(rescale=1./255)\n",
        "\n",
        "test_generator = test_datagen.flow_from_directory(\n",
        "        test_dir,\n",
        "        target_size=(150, 150),\n",
        "        batch_size=20,\n",
        "        class_mode='binary')\n",
        "\n",
        "model1.evaluate(test_generator)"
      ]
    },
    {
      "cell_type": "markdown",
      "metadata": {
        "id": "Npquc73z96x0"
      },
      "source": [
        "We achieved an accuracy of 71.7% on the test set."
      ]
    },
    {
      "cell_type": "markdown",
      "metadata": {
        "id": "AFpQybSu8vFW"
      },
      "source": [
        "**Side Note:** Given that these models take some time to train, it is good practice to save your models on Google Drive. The following code will save the architecture of the network along with the trained weights and biases."
      ]
    },
    {
      "cell_type": "code",
      "execution_count": null,
      "metadata": {
        "id": "OKti_DJ386hp"
      },
      "outputs": [],
      "source": [
        "model1.save(\"/content/drive/MyDrive/BUAI 446/Module04/CatsDogs_model1.h5\")"
      ]
    },
    {
      "cell_type": "markdown",
      "metadata": {
        "id": "DTuUnq3w9FAU"
      },
      "source": [
        "If your runtime gets disconnected, you can easily load your model without the need to train it again. Let's delete model1 and load it again."
      ]
    },
    {
      "cell_type": "code",
      "execution_count": null,
      "metadata": {
        "id": "YQp9cFsW-g0t"
      },
      "outputs": [],
      "source": [
        "del model1"
      ]
    },
    {
      "cell_type": "code",
      "execution_count": null,
      "metadata": {
        "id": "cHTaoIVI9WzK"
      },
      "outputs": [],
      "source": [
        "model1 = models.load_model(\"/content/drive/MyDrive/BUAI 446/Module04/CatsDogs_model1.h5\")"
      ]
    },
    {
      "cell_type": "markdown",
      "metadata": {
        "id": "tmyTjDkJ9b4r"
      },
      "source": [
        "Next, let's try the **dropout** method to see if it helps with overfitting. It is more common to use dropout after the `Flatten` layer in CNNs."
      ]
    },
    {
      "cell_type": "code",
      "execution_count": null,
      "metadata": {
        "id": "4A-pLUAgvOK9"
      },
      "outputs": [],
      "source": [
        "model2 = models.Sequential()\n",
        "\n",
        "model2.add(layers.Conv2D(32, (3, 3), activation='relu', input_shape=(150, 150, 3)))\n",
        "model2.add(layers.MaxPooling2D((2, 2)))\n",
        "\n",
        "model2.add(layers.Conv2D(64, (3, 3), activation='relu'))\n",
        "model2.add(layers.MaxPooling2D((2, 2)))\n",
        "\n",
        "model2.add(layers.Conv2D(128, (3, 3), activation='relu'))\n",
        "model2.add(layers.MaxPooling2D((2, 2)))\n",
        "\n",
        "model2.add(layers.Conv2D(128, (3, 3), activation='relu'))\n",
        "model2.add(layers.MaxPooling2D((2, 2)))\n",
        "\n",
        "model2.add(layers.Flatten())\n",
        "model2.add(layers.Dropout(0.5))\n",
        "\n",
        "model2.add(layers.Dense(256, activation='relu'))\n",
        "model2.add(layers.Dense(1, activation='sigmoid'))"
      ]
    },
    {
      "cell_type": "code",
      "execution_count": null,
      "metadata": {
        "id": "MxeKwFAkzQF2"
      },
      "outputs": [],
      "source": [
        "model2.compile(loss='binary_crossentropy',\n",
        "               optimizer='rmsprop',\n",
        "               metrics=['accuracy'])"
      ]
    },
    {
      "cell_type": "code",
      "execution_count": null,
      "metadata": {
        "colab": {
          "base_uri": "https://localhost:8080/",
          "height": 764
        },
        "id": "NHjM7ZrczSEv",
        "outputId": "0e341b7a-0fa5-4a19-ee18-0322398b9fd4"
      },
      "outputs": [
        {
          "name": "stdout",
          "output_type": "stream",
          "text": [
            "Epoch 1/20\n",
            "100/100 [==============================] - 13s 131ms/step - loss: 0.7382 - accuracy: 0.5170 - val_loss: 0.6894 - val_accuracy: 0.5300\n",
            "Epoch 2/20\n",
            "100/100 [==============================] - 13s 130ms/step - loss: 0.6946 - accuracy: 0.5250 - val_loss: 0.6789 - val_accuracy: 0.5350\n",
            "Epoch 3/20\n",
            "100/100 [==============================] - 13s 130ms/step - loss: 0.6715 - accuracy: 0.5935 - val_loss: 0.6342 - val_accuracy: 0.6210\n",
            "Epoch 4/20\n",
            "100/100 [==============================] - 13s 129ms/step - loss: 0.6307 - accuracy: 0.6525 - val_loss: 0.6345 - val_accuracy: 0.6320\n",
            "Epoch 5/20\n",
            "100/100 [==============================] - 13s 130ms/step - loss: 0.5848 - accuracy: 0.6860 - val_loss: 0.5939 - val_accuracy: 0.7010\n",
            "Epoch 6/20\n",
            "100/100 [==============================] - 13s 128ms/step - loss: 0.5568 - accuracy: 0.7170 - val_loss: 0.5759 - val_accuracy: 0.7010\n",
            "Epoch 7/20\n",
            "100/100 [==============================] - 14s 140ms/step - loss: 0.5243 - accuracy: 0.7505 - val_loss: 0.6044 - val_accuracy: 0.6580\n",
            "Epoch 8/20\n",
            "100/100 [==============================] - 13s 128ms/step - loss: 0.4711 - accuracy: 0.7820 - val_loss: 0.5971 - val_accuracy: 0.6910\n",
            "Epoch 9/20\n",
            "100/100 [==============================] - 13s 129ms/step - loss: 0.4784 - accuracy: 0.7745 - val_loss: 0.5493 - val_accuracy: 0.7070\n",
            "Epoch 10/20\n",
            "100/100 [==============================] - 13s 129ms/step - loss: 0.4273 - accuracy: 0.8030 - val_loss: 0.5725 - val_accuracy: 0.7230\n",
            "Epoch 11/20\n",
            "100/100 [==============================] - 13s 130ms/step - loss: 0.4061 - accuracy: 0.8100 - val_loss: 0.5603 - val_accuracy: 0.7370\n",
            "Epoch 12/20\n",
            "100/100 [==============================] - 13s 130ms/step - loss: 0.3740 - accuracy: 0.8290 - val_loss: 0.7295 - val_accuracy: 0.7050\n",
            "Epoch 13/20\n",
            "100/100 [==============================] - 13s 129ms/step - loss: 0.3545 - accuracy: 0.8370 - val_loss: 0.5763 - val_accuracy: 0.7140\n",
            "Epoch 14/20\n",
            "100/100 [==============================] - 13s 130ms/step - loss: 0.3313 - accuracy: 0.8535 - val_loss: 0.8106 - val_accuracy: 0.6910\n",
            "Epoch 15/20\n",
            "100/100 [==============================] - 13s 128ms/step - loss: 0.3041 - accuracy: 0.8720 - val_loss: 0.6008 - val_accuracy: 0.7480\n",
            "Epoch 16/20\n",
            "100/100 [==============================] - 13s 128ms/step - loss: 0.2881 - accuracy: 0.8810 - val_loss: 0.6670 - val_accuracy: 0.7480\n",
            "Epoch 17/20\n",
            "100/100 [==============================] - 13s 127ms/step - loss: 0.2631 - accuracy: 0.8940 - val_loss: 0.6520 - val_accuracy: 0.7380\n",
            "Epoch 18/20\n",
            "100/100 [==============================] - 13s 127ms/step - loss: 0.2424 - accuracy: 0.9020 - val_loss: 0.6826 - val_accuracy: 0.7690\n",
            "Epoch 19/20\n",
            "100/100 [==============================] - 13s 127ms/step - loss: 0.2311 - accuracy: 0.9055 - val_loss: 0.6995 - val_accuracy: 0.7570\n",
            "Epoch 20/20\n",
            "100/100 [==============================] - 13s 127ms/step - loss: 0.2017 - accuracy: 0.9265 - val_loss: 0.9594 - val_accuracy: 0.7480\n"
          ]
        }
      ],
      "source": [
        "model2_history = model2.fit(\n",
        "      train_generator,\n",
        "      epochs=20,\n",
        "      validation_data=validation_generator)"
      ]
    },
    {
      "cell_type": "markdown",
      "metadata": {
        "id": "BKIjCNRAz4yg"
      },
      "source": [
        "Let's compare the validation loss of the original model against the dropout model."
      ]
    },
    {
      "cell_type": "code",
      "execution_count": null,
      "metadata": {
        "colab": {
          "base_uri": "https://localhost:8080/",
          "height": 303
        },
        "id": "OhXHVPbl01gk",
        "outputId": "6a5a6237-2046-4682-ebca-254d4a822c02"
      },
      "outputs": [
        {
          "data": {
            "text/plain": [
              "<matplotlib.legend.Legend at 0x7efecb0dff28>"
            ]
          },
          "execution_count": 41,
          "metadata": {
            "tags": []
          },
          "output_type": "execute_result"
        },
        {
          "data": {
            "image/png": "[encoded data removed]",
            "text/plain": [
              "<Figure size 432x288 with 1 Axes>"
            ]
          },
          "metadata": {
            "tags": []
          },
          "output_type": "display_data"
        }
      ],
      "source": [
        "val_loss2 = model2_history.history['val_loss']\n",
        "\n",
        "epochs = range(1, len(val_loss2) + 1)\n",
        "\n",
        "plt.plot(epochs, val_loss1, label = 'Original model')\n",
        "plt.plot(epochs, val_loss2, label = 'Dropout model')\n",
        "plt.xlabel('Epochs')\n",
        "plt.ylabel('Loss')\n",
        "plt.legend()"
      ]
    },
    {
      "cell_type": "markdown",
      "metadata": {
        "id": "IdXk9Nn48mHp"
      },
      "source": [
        "We can see that the dropout model overfits less as the loss curve for the dropout model starts to increase much slower compared to the original model when the two models start to overfit. Also, it appears that the dropout model starts to overfit after 13 epochs."
      ]
    },
    {
      "cell_type": "markdown",
      "metadata": {
        "id": "8VqFTGrQeaYs"
      },
      "source": [
        "Let's evaluate the dropout model on the test data."
      ]
    },
    {
      "cell_type": "code",
      "execution_count": null,
      "metadata": {
        "colab": {
          "base_uri": "https://localhost:8080/",
          "height": 72
        },
        "id": "FNjHX4s1eDbj",
        "outputId": "e558b1b6-fe35-45b9-cf4c-ce840e32bb4c"
      },
      "outputs": [
        {
          "name": "stdout",
          "output_type": "stream",
          "text": [
            "Found 1000 images belonging to 2 classes.\n",
            "50/50 [==============================] - 4s 81ms/step - loss: 1.0828 - accuracy: 0.7360\n"
          ]
        },
        {
          "data": {
            "text/plain": [
              "[1.0827562808990479, 0.7360000014305115]"
            ]
          },
          "execution_count": 42,
          "metadata": {
            "tags": []
          },
          "output_type": "execute_result"
        }
      ],
      "source": [
        "test_datagen = ImageDataGenerator(rescale=1./255)\n",
        "\n",
        "test_generator = test_datagen.flow_from_directory(\n",
        "        test_dir,\n",
        "        target_size=(150, 150),\n",
        "        batch_size=20,\n",
        "        class_mode='binary')\n",
        "\n",
        "model2.evaluate(test_generator)"
      ]
    },
    {
      "cell_type": "markdown",
      "metadata": {
        "id": "mykn20_We2ng"
      },
      "source": [
        "We achieved an accuracy of 73.6%, which is slightly higher than what we got with the original model."
      ]
    },
    {
      "cell_type": "markdown",
      "metadata": {
        "id": "SIr-IOSCXmnX"
      },
      "source": [
        "Let's also save our second model before we move on to the next part."
      ]
    },
    {
      "cell_type": "code",
      "execution_count": null,
      "metadata": {
        "id": "itSCOjhqXmyo"
      },
      "outputs": [],
      "source": [
        "model2.save(\"/content/drive/MyDrive/BUAI 446/Module04/CatsDogs_model2.h5\")"
      ]
    },
    {
      "cell_type": "markdown",
      "metadata": {
        "id": "yvi0KMHMJ9qx"
      },
      "source": [
        "## Data Augmentation\n",
        "\n",
        "Overfitting is caused by having too few samples to learn from, which does not allow training a model that generalizes well to new data.\n",
        "Given infinite data, our model would be exposed to every possible aspect of the data distribution at hand: we would never overfit. Data augmentation takes the approach of generating more training data from existing training samples, by \"augmenting\" the samples via a number of random transformations that yield believable-looking images. This helps the model get exposed to more aspects of the data and generalize better.\n",
        "\n",
        "In Keras, this can be done by configuring a number of random transformations to be performed on the images read by our `ImageDataGenerator` instance. Let's get started with an example."
      ]
    },
    {
      "cell_type": "code",
      "execution_count": null,
      "metadata": {
        "id": "6YgegQRYKyMN"
      },
      "outputs": [],
      "source": [
        "datagen = ImageDataGenerator(\n",
        "      rotation_range=40,\n",
        "      width_shift_range=0.2,\n",
        "      height_shift_range=0.2,\n",
        "      shear_range=0.2,\n",
        "      zoom_range=0.2,\n",
        "      horizontal_flip=True)"
      ]
    },
    {
      "cell_type": "markdown",
      "metadata": {
        "id": "40W6X4WqNgp-"
      },
      "source": [
        "These are just a few of the options available (for more, see the [Keras documentation](https://keras.io/api/preprocessing/image/#imagedatagenerator-class)). Let's quickly go over what we just wrote:\n",
        "\n",
        "* `rotation_range` is a value in degrees (0-180), a range within which to randomly rotate pictures.\n",
        "* `width_shift_range` and `height_shift_range` are ranges (as a fraction of total width or height) within which to randomly translate pictures\n",
        "vertically or horizontally.\n",
        "* `shear_range` is for randomly applying shearing transformations.\n",
        "* `zoom_range` is for randomly zooming inside pictures.\n",
        "* `horizontal_flip` is for randomly flipping half of the images horizontally -- relevant when there are no assumptions of horizontal\n",
        "asymmetry (e.g. real-world pictures).\n"
      ]
    },
    {
      "cell_type": "markdown",
      "metadata": {
        "id": "cjkfW3IdPYms"
      },
      "source": [
        "Here are a few examples of what we get with our data augmentation."
      ]
    },
    {
      "cell_type": "markdown",
      "metadata": {
        "id": "YN6jTxFFPiFZ"
      },
      "source": [
        "![cats_dogs_augmentation](https://blog.keras.io/img/imgclf/cat_data_augmentation.png)"
      ]
    },
    {
      "cell_type": "markdown",
      "metadata": {
        "id": "NYwTsobXQ8rZ"
      },
      "source": [
        "If we train a new CNN using this data augmentation configuration, our network will never see the same input twice. However, the inputs\n",
        "that it sees are still heavily intercorrelated, since they come from a small number of original images -- we cannot produce new information, we can only remix existing information.\n",
        "As such, this might not be quite enough to completely get rid of overfitting, but it will help in most cases.\n",
        "To further fight overfitting, in here, we will also keep the Dropout layer of model2."
      ]
    },
    {
      "cell_type": "code",
      "execution_count": null,
      "metadata": {
        "id": "dOUfUwzRPgxx"
      },
      "outputs": [],
      "source": [
        "model3 = models.Sequential()\n",
        "\n",
        "model3.add(layers.Conv2D(32, (3, 3), activation='relu', input_shape=(150, 150, 3)))\n",
        "model3.add(layers.MaxPooling2D((2, 2)))\n",
        "\n",
        "model3.add(layers.Conv2D(64, (3, 3), activation='relu'))\n",
        "model3.add(layers.MaxPooling2D((2, 2)))\n",
        "\n",
        "model3.add(layers.Conv2D(128, (3, 3), activation='relu'))\n",
        "model3.add(layers.MaxPooling2D((2, 2)))\n",
        "\n",
        "model3.add(layers.Conv2D(128, (3, 3), activation='relu'))\n",
        "model3.add(layers.MaxPooling2D((2, 2)))\n",
        "\n",
        "model3.add(layers.Flatten())\n",
        "model3.add(layers.Dropout(0.5))\n",
        "\n",
        "model3.add(layers.Dense(256, activation='relu'))\n",
        "model3.add(layers.Dense(1, activation='sigmoid'))"
      ]
    },
    {
      "cell_type": "markdown",
      "metadata": {
        "id": "UiZaP53xX7f5"
      },
      "source": [
        "Note that model3 is identical to model2 in terms of architecture. However, when we train it (below), we will use data augmentation."
      ]
    },
    {
      "cell_type": "code",
      "execution_count": null,
      "metadata": {
        "id": "CS701UHsURSh"
      },
      "outputs": [],
      "source": [
        "model3.compile(loss='binary_crossentropy',\n",
        "               optimizer='rmsprop',\n",
        "               metrics=['accuracy'])"
      ]
    },
    {
      "cell_type": "markdown",
      "metadata": {
        "id": "BUblPUErUksM"
      },
      "source": [
        "Before we run `model.fit`, we are going to use `ImageDataGenerator` to do data augmentation when creating training batches. Note that we only augment the training data; the validation data should not be augmented."
      ]
    },
    {
      "cell_type": "code",
      "execution_count": null,
      "metadata": {
        "colab": {
          "base_uri": "https://localhost:8080/",
          "height": 53
        },
        "id": "uXB7yyUtUvIk",
        "outputId": "d0a2643f-ca19-491a-c960-6a0ff1fdd62d"
      },
      "outputs": [
        {
          "name": "stdout",
          "output_type": "stream",
          "text": [
            "Found 2000 images belonging to 2 classes.\n",
            "Found 1000 images belonging to 2 classes.\n"
          ]
        }
      ],
      "source": [
        "# Define the data augmentation parameters in ImageDataGenerator\n",
        "train_datagen = ImageDataGenerator(\n",
        "    rescale=1./255,\n",
        "    rotation_range=40,\n",
        "    width_shift_range=0.2,\n",
        "    height_shift_range=0.2,\n",
        "    shear_range=0.2,\n",
        "    zoom_range=0.2,\n",
        "    horizontal_flip=True)\n",
        "\n",
        "# Note that the validation data should NOT be augmented\n",
        "validation_datagen = ImageDataGenerator(rescale=1./255)\n",
        "\n",
        "train_generator = train_datagen.flow_from_directory(\n",
        "        train_dir,\n",
        "        target_size=(150, 150),\n",
        "        batch_size=32,\n",
        "        class_mode='binary')\n",
        "\n",
        "validation_generator = validation_datagen.flow_from_directory(\n",
        "        validation_dir,\n",
        "        target_size=(150, 150),\n",
        "        batch_size=32,\n",
        "        class_mode='binary')"
      ]
    },
    {
      "cell_type": "code",
      "execution_count": null,
      "metadata": {
        "colab": {
          "base_uri": "https://localhost:8080/",
          "height": 1000
        },
        "id": "j-t_k88kUWxc",
        "outputId": "cc62d47b-5ce9-427b-dd3e-75cf123cc14e"
      },
      "outputs": [
        {
          "name": "stdout",
          "output_type": "stream",
          "text": [
            "Epoch 1/100\n",
            "63/63 [==============================] - 1278s 20s/step - loss: 0.7764 - accuracy: 0.4840 - val_loss: 0.6945 - val_accuracy: 0.5000\n",
            "Epoch 2/100\n",
            "63/63 [==============================] - 22s 347ms/step - loss: 0.6970 - accuracy: 0.5005 - val_loss: 0.6898 - val_accuracy: 0.6030\n",
            "Epoch 3/100\n",
            "63/63 [==============================] - 22s 347ms/step - loss: 0.6986 - accuracy: 0.5510 - val_loss: 0.6752 - val_accuracy: 0.6180\n",
            "Epoch 4/100\n",
            "63/63 [==============================] - 22s 346ms/step - loss: 0.6907 - accuracy: 0.5840 - val_loss: 0.6516 - val_accuracy: 0.6250\n",
            "Epoch 5/100\n",
            "63/63 [==============================] - 22s 346ms/step - loss: 0.6610 - accuracy: 0.6080 - val_loss: 0.6350 - val_accuracy: 0.6630\n",
            "Epoch 6/100\n",
            "63/63 [==============================] - 22s 345ms/step - loss: 0.6729 - accuracy: 0.6295 - val_loss: 0.8494 - val_accuracy: 0.5380\n",
            "Epoch 7/100\n",
            "63/63 [==============================] - 22s 346ms/step - loss: 0.6410 - accuracy: 0.6385 - val_loss: 0.6114 - val_accuracy: 0.6520\n",
            "Epoch 8/100\n",
            "63/63 [==============================] - 22s 345ms/step - loss: 0.6429 - accuracy: 0.6400 - val_loss: 0.5915 - val_accuracy: 0.6750\n",
            "Epoch 9/100\n",
            "63/63 [==============================] - 22s 346ms/step - loss: 0.6205 - accuracy: 0.6550 - val_loss: 0.5874 - val_accuracy: 0.6950\n",
            "Epoch 10/100\n",
            "63/63 [==============================] - 22s 357ms/step - loss: 0.6266 - accuracy: 0.6515 - val_loss: 0.5941 - val_accuracy: 0.6510\n",
            "Epoch 11/100\n",
            "63/63 [==============================] - 22s 346ms/step - loss: 0.6204 - accuracy: 0.6760 - val_loss: 0.6697 - val_accuracy: 0.5910\n",
            "Epoch 12/100\n",
            "63/63 [==============================] - 22s 347ms/step - loss: 0.6260 - accuracy: 0.6585 - val_loss: 0.5568 - val_accuracy: 0.7100\n",
            "Epoch 13/100\n",
            "63/63 [==============================] - 22s 348ms/step - loss: 0.5868 - accuracy: 0.6895 - val_loss: 0.5234 - val_accuracy: 0.7390\n",
            "Epoch 14/100\n",
            "63/63 [==============================] - 22s 347ms/step - loss: 0.5870 - accuracy: 0.6970 - val_loss: 0.5688 - val_accuracy: 0.6820\n",
            "Epoch 15/100\n",
            "63/63 [==============================] - 22s 345ms/step - loss: 0.5825 - accuracy: 0.6995 - val_loss: 0.5441 - val_accuracy: 0.7110\n",
            "Epoch 16/100\n",
            "63/63 [==============================] - 22s 346ms/step - loss: 0.5775 - accuracy: 0.6885 - val_loss: 0.5490 - val_accuracy: 0.6990\n",
            "Epoch 17/100\n",
            "63/63 [==============================] - 22s 348ms/step - loss: 0.5845 - accuracy: 0.6975 - val_loss: 0.5039 - val_accuracy: 0.7610\n",
            "Epoch 18/100\n",
            "63/63 [==============================] - 22s 346ms/step - loss: 0.5895 - accuracy: 0.7055 - val_loss: 0.5108 - val_accuracy: 0.7530\n",
            "Epoch 19/100\n",
            "63/63 [==============================] - 22s 346ms/step - loss: 0.5866 - accuracy: 0.6980 - val_loss: 0.5250 - val_accuracy: 0.7490\n",
            "Epoch 20/100\n",
            "63/63 [==============================] - 22s 347ms/step - loss: 0.5543 - accuracy: 0.7125 - val_loss: 0.5007 - val_accuracy: 0.7550\n",
            "Epoch 21/100\n",
            "63/63 [==============================] - 22s 347ms/step - loss: 0.5690 - accuracy: 0.7245 - val_loss: 0.4857 - val_accuracy: 0.7720\n",
            "Epoch 22/100\n",
            "63/63 [==============================] - 22s 346ms/step - loss: 0.5634 - accuracy: 0.7090 - val_loss: 0.4928 - val_accuracy: 0.7640\n",
            "Epoch 23/100\n",
            "63/63 [==============================] - 22s 344ms/step - loss: 0.5459 - accuracy: 0.7430 - val_loss: 0.5065 - val_accuracy: 0.7550\n",
            "Epoch 24/100\n",
            "63/63 [==============================] - 23s 357ms/step - loss: 0.5541 - accuracy: 0.7310 - val_loss: 0.4633 - val_accuracy: 0.7740\n",
            "Epoch 25/100\n",
            "63/63 [==============================] - 22s 348ms/step - loss: 0.5385 - accuracy: 0.7350 - val_loss: 0.5270 - val_accuracy: 0.7490\n",
            "Epoch 26/100\n",
            "63/63 [==============================] - 22s 348ms/step - loss: 0.5223 - accuracy: 0.7380 - val_loss: 0.4557 - val_accuracy: 0.7730\n",
            "Epoch 27/100\n",
            "63/63 [==============================] - 22s 350ms/step - loss: 0.5345 - accuracy: 0.7360 - val_loss: 0.5000 - val_accuracy: 0.7540\n",
            "Epoch 28/100\n",
            "63/63 [==============================] - 22s 348ms/step - loss: 0.5712 - accuracy: 0.7295 - val_loss: 0.4652 - val_accuracy: 0.7970\n",
            "Epoch 29/100\n",
            "63/63 [==============================] - 22s 346ms/step - loss: 0.5162 - accuracy: 0.7460 - val_loss: 0.4702 - val_accuracy: 0.7710\n",
            "Epoch 30/100\n",
            "63/63 [==============================] - 22s 346ms/step - loss: 0.5180 - accuracy: 0.7515 - val_loss: 0.4531 - val_accuracy: 0.7860\n",
            "Epoch 31/100\n",
            "63/63 [==============================] - 22s 346ms/step - loss: 0.5129 - accuracy: 0.7545 - val_loss: 0.5221 - val_accuracy: 0.7540\n",
            "Epoch 32/100\n",
            "63/63 [==============================] - 22s 347ms/step - loss: 0.5036 - accuracy: 0.7615 - val_loss: 0.4385 - val_accuracy: 0.7960\n",
            "Epoch 33/100\n",
            "63/63 [==============================] - 22s 346ms/step - loss: 0.4982 - accuracy: 0.7685 - val_loss: 0.7223 - val_accuracy: 0.6490\n",
            "Epoch 34/100\n",
            "63/63 [==============================] - 22s 345ms/step - loss: 0.5047 - accuracy: 0.7590 - val_loss: 0.5585 - val_accuracy: 0.7490\n",
            "Epoch 35/100\n",
            "63/63 [==============================] - 22s 346ms/step - loss: 0.5005 - accuracy: 0.7585 - val_loss: 0.4330 - val_accuracy: 0.7900\n",
            "Epoch 36/100\n",
            "63/63 [==============================] - 22s 345ms/step - loss: 0.4816 - accuracy: 0.7700 - val_loss: 0.4742 - val_accuracy: 0.7780\n",
            "Epoch 37/100\n",
            "63/63 [==============================] - 22s 344ms/step - loss: 0.4896 - accuracy: 0.7740 - val_loss: 0.4513 - val_accuracy: 0.7820\n",
            "Epoch 38/100\n",
            "63/63 [==============================] - 22s 353ms/step - loss: 0.4794 - accuracy: 0.7815 - val_loss: 0.4913 - val_accuracy: 0.7670\n",
            "Epoch 39/100\n",
            "63/63 [==============================] - 22s 343ms/step - loss: 0.4957 - accuracy: 0.7610 - val_loss: 0.4935 - val_accuracy: 0.7580\n",
            "Epoch 40/100\n",
            "63/63 [==============================] - 22s 344ms/step - loss: 0.4784 - accuracy: 0.7825 - val_loss: 0.4519 - val_accuracy: 0.7980\n",
            "Epoch 41/100\n",
            "63/63 [==============================] - 22s 345ms/step - loss: 0.4702 - accuracy: 0.7925 - val_loss: 0.4388 - val_accuracy: 0.8020\n",
            "Epoch 42/100\n",
            "63/63 [==============================] - 22s 343ms/step - loss: 0.4652 - accuracy: 0.7870 - val_loss: 0.4991 - val_accuracy: 0.8000\n",
            "Epoch 43/100\n",
            "63/63 [==============================] - 22s 344ms/step - loss: 0.4649 - accuracy: 0.7855 - val_loss: 0.4279 - val_accuracy: 0.8100\n",
            "Epoch 44/100\n",
            "63/63 [==============================] - 22s 344ms/step - loss: 0.4511 - accuracy: 0.7925 - val_loss: 0.5632 - val_accuracy: 0.7690\n",
            "Epoch 45/100\n",
            "63/63 [==============================] - 22s 343ms/step - loss: 0.4473 - accuracy: 0.8005 - val_loss: 0.4102 - val_accuracy: 0.8240\n",
            "Epoch 46/100\n",
            "63/63 [==============================] - 22s 344ms/step - loss: 0.4668 - accuracy: 0.7790 - val_loss: 0.4627 - val_accuracy: 0.7920\n",
            "Epoch 47/100\n",
            "63/63 [==============================] - 22s 345ms/step - loss: 0.4469 - accuracy: 0.8055 - val_loss: 0.4407 - val_accuracy: 0.7980\n",
            "Epoch 48/100\n",
            "63/63 [==============================] - 22s 344ms/step - loss: 0.4390 - accuracy: 0.7980 - val_loss: 0.4780 - val_accuracy: 0.8020\n",
            "Epoch 49/100\n",
            "63/63 [==============================] - 22s 347ms/step - loss: 0.4422 - accuracy: 0.7990 - val_loss: 0.5067 - val_accuracy: 0.7950\n",
            "Epoch 50/100\n",
            "63/63 [==============================] - 22s 345ms/step - loss: 0.4525 - accuracy: 0.8005 - val_loss: 0.4329 - val_accuracy: 0.8030\n",
            "Epoch 51/100\n",
            "63/63 [==============================] - 22s 345ms/step - loss: 0.4487 - accuracy: 0.7995 - val_loss: 0.4021 - val_accuracy: 0.8320\n",
            "Epoch 52/100\n",
            "63/63 [==============================] - 22s 355ms/step - loss: 0.4419 - accuracy: 0.8080 - val_loss: 0.4258 - val_accuracy: 0.8150\n",
            "Epoch 53/100\n",
            "63/63 [==============================] - 22s 345ms/step - loss: 0.4449 - accuracy: 0.7905 - val_loss: 0.3999 - val_accuracy: 0.8090\n",
            "Epoch 54/100\n",
            "63/63 [==============================] - 22s 348ms/step - loss: 0.4226 - accuracy: 0.8125 - val_loss: 0.3933 - val_accuracy: 0.8250\n",
            "Epoch 55/100\n",
            "63/63 [==============================] - 22s 347ms/step - loss: 0.4387 - accuracy: 0.8160 - val_loss: 0.4221 - val_accuracy: 0.8080\n",
            "Epoch 56/100\n",
            "63/63 [==============================] - 22s 346ms/step - loss: 0.4404 - accuracy: 0.8005 - val_loss: 0.4578 - val_accuracy: 0.7970\n",
            "Epoch 57/100\n",
            "63/63 [==============================] - 22s 345ms/step - loss: 0.4302 - accuracy: 0.8055 - val_loss: 0.4291 - val_accuracy: 0.8140\n",
            "Epoch 58/100\n",
            "63/63 [==============================] - 22s 346ms/step - loss: 0.4511 - accuracy: 0.8080 - val_loss: 0.4291 - val_accuracy: 0.8000\n",
            "Epoch 59/100\n",
            "63/63 [==============================] - 22s 346ms/step - loss: 0.4208 - accuracy: 0.8150 - val_loss: 0.4121 - val_accuracy: 0.8250\n",
            "Epoch 60/100\n",
            "63/63 [==============================] - 22s 344ms/step - loss: 0.4106 - accuracy: 0.8185 - val_loss: 0.4251 - val_accuracy: 0.8090\n",
            "Epoch 61/100\n",
            "63/63 [==============================] - 22s 346ms/step - loss: 0.4142 - accuracy: 0.8140 - val_loss: 0.4234 - val_accuracy: 0.8010\n",
            "Epoch 62/100\n",
            "63/63 [==============================] - 22s 346ms/step - loss: 0.4353 - accuracy: 0.8145 - val_loss: 0.5213 - val_accuracy: 0.7900\n",
            "Epoch 63/100\n",
            "63/63 [==============================] - 22s 345ms/step - loss: 0.4144 - accuracy: 0.8250 - val_loss: 0.4959 - val_accuracy: 0.7730\n",
            "Epoch 64/100\n",
            "63/63 [==============================] - 22s 346ms/step - loss: 0.4067 - accuracy: 0.8245 - val_loss: 0.4174 - val_accuracy: 0.8240\n",
            "Epoch 65/100\n",
            "63/63 [==============================] - 22s 346ms/step - loss: 0.4334 - accuracy: 0.8055 - val_loss: 0.4075 - val_accuracy: 0.8360\n",
            "Epoch 66/100\n",
            "63/63 [==============================] - 22s 356ms/step - loss: 0.3942 - accuracy: 0.8255 - val_loss: 0.3876 - val_accuracy: 0.8280\n",
            "Epoch 67/100\n",
            "63/63 [==============================] - 22s 344ms/step - loss: 0.4240 - accuracy: 0.8150 - val_loss: 0.3892 - val_accuracy: 0.8150\n",
            "Epoch 68/100\n",
            "63/63 [==============================] - 22s 348ms/step - loss: 0.4104 - accuracy: 0.8185 - val_loss: 0.3824 - val_accuracy: 0.8370\n",
            "Epoch 69/100\n",
            "63/63 [==============================] - 22s 346ms/step - loss: 0.4119 - accuracy: 0.8165 - val_loss: 0.3740 - val_accuracy: 0.8270\n",
            "Epoch 70/100\n",
            "63/63 [==============================] - 22s 345ms/step - loss: 0.4088 - accuracy: 0.8095 - val_loss: 0.4620 - val_accuracy: 0.8090\n",
            "Epoch 71/100\n",
            "63/63 [==============================] - 22s 346ms/step - loss: 0.3924 - accuracy: 0.8290 - val_loss: 0.4017 - val_accuracy: 0.8210\n",
            "Epoch 72/100\n",
            "63/63 [==============================] - 22s 345ms/step - loss: 0.4149 - accuracy: 0.8165 - val_loss: 0.3966 - val_accuracy: 0.8270\n",
            "Epoch 73/100\n",
            "63/63 [==============================] - 22s 345ms/step - loss: 0.4011 - accuracy: 0.8140 - val_loss: 0.3877 - val_accuracy: 0.8400\n",
            "Epoch 74/100\n",
            "63/63 [==============================] - 22s 345ms/step - loss: 0.3694 - accuracy: 0.8400 - val_loss: 0.4071 - val_accuracy: 0.8420\n",
            "Epoch 75/100\n",
            "63/63 [==============================] - 22s 344ms/step - loss: 0.3788 - accuracy: 0.8310 - val_loss: 0.4619 - val_accuracy: 0.8350\n",
            "Epoch 76/100\n",
            "63/63 [==============================] - 22s 348ms/step - loss: 0.4015 - accuracy: 0.8235 - val_loss: 0.6366 - val_accuracy: 0.7510\n",
            "Epoch 77/100\n",
            "63/63 [==============================] - 22s 347ms/step - loss: 0.3975 - accuracy: 0.8315 - val_loss: 0.5810 - val_accuracy: 0.7420\n",
            "Epoch 78/100\n",
            "63/63 [==============================] - 22s 345ms/step - loss: 0.4192 - accuracy: 0.8175 - val_loss: 0.3746 - val_accuracy: 0.8470\n",
            "Epoch 79/100\n",
            "63/63 [==============================] - 22s 346ms/step - loss: 0.3872 - accuracy: 0.8425 - val_loss: 0.4028 - val_accuracy: 0.8240\n",
            "Epoch 80/100\n",
            "63/63 [==============================] - 23s 358ms/step - loss: 0.4036 - accuracy: 0.8245 - val_loss: 0.3476 - val_accuracy: 0.8530\n",
            "Epoch 81/100\n",
            "63/63 [==============================] - 22s 347ms/step - loss: 0.3863 - accuracy: 0.8320 - val_loss: 0.3823 - val_accuracy: 0.8260\n",
            "Epoch 82/100\n",
            "63/63 [==============================] - 22s 350ms/step - loss: 0.3861 - accuracy: 0.8465 - val_loss: 0.3756 - val_accuracy: 0.8400\n",
            "Epoch 83/100\n",
            "63/63 [==============================] - 22s 347ms/step - loss: 0.3884 - accuracy: 0.8395 - val_loss: 0.4116 - val_accuracy: 0.8230\n",
            "Epoch 84/100\n",
            "63/63 [==============================] - 22s 347ms/step - loss: 0.3713 - accuracy: 0.8420 - val_loss: 0.4347 - val_accuracy: 0.8340\n",
            "Epoch 85/100\n",
            "63/63 [==============================] - 22s 347ms/step - loss: 0.4000 - accuracy: 0.8200 - val_loss: 0.4219 - val_accuracy: 0.8290\n",
            "Epoch 86/100\n",
            "63/63 [==============================] - 22s 347ms/step - loss: 0.3865 - accuracy: 0.8230 - val_loss: 0.3953 - val_accuracy: 0.8360\n",
            "Epoch 87/100\n",
            "63/63 [==============================] - 22s 346ms/step - loss: 0.4097 - accuracy: 0.8450 - val_loss: 0.3630 - val_accuracy: 0.8420\n",
            "Epoch 88/100\n",
            "63/63 [==============================] - 22s 347ms/step - loss: 0.3916 - accuracy: 0.8245 - val_loss: 0.4945 - val_accuracy: 0.8020\n",
            "Epoch 89/100\n",
            "63/63 [==============================] - 22s 346ms/step - loss: 0.3709 - accuracy: 0.8485 - val_loss: 0.5063 - val_accuracy: 0.7470\n",
            "Epoch 90/100\n",
            "63/63 [==============================] - 22s 346ms/step - loss: 0.3752 - accuracy: 0.8450 - val_loss: 0.3695 - val_accuracy: 0.8570\n",
            "Epoch 91/100\n",
            "63/63 [==============================] - 22s 345ms/step - loss: 0.3876 - accuracy: 0.8340 - val_loss: 0.3343 - val_accuracy: 0.8600\n",
            "Epoch 92/100\n",
            "63/63 [==============================] - 22s 346ms/step - loss: 0.3952 - accuracy: 0.8390 - val_loss: 0.4200 - val_accuracy: 0.8370\n",
            "Epoch 93/100\n",
            "63/63 [==============================] - 22s 346ms/step - loss: 0.3498 - accuracy: 0.8455 - val_loss: 0.4353 - val_accuracy: 0.8530\n",
            "Epoch 94/100\n",
            "63/63 [==============================] - 22s 356ms/step - loss: 0.3721 - accuracy: 0.8470 - val_loss: 0.4065 - val_accuracy: 0.8460\n",
            "Epoch 95/100\n",
            "63/63 [==============================] - 22s 346ms/step - loss: 0.4017 - accuracy: 0.8350 - val_loss: 0.3869 - val_accuracy: 0.8460\n",
            "Epoch 96/100\n",
            "63/63 [==============================] - 22s 347ms/step - loss: 0.3595 - accuracy: 0.8540 - val_loss: 0.4250 - val_accuracy: 0.8360\n",
            "Epoch 97/100\n",
            "63/63 [==============================] - 22s 346ms/step - loss: 0.3863 - accuracy: 0.8365 - val_loss: 0.4167 - val_accuracy: 0.8240\n",
            "Epoch 98/100\n",
            "63/63 [==============================] - 22s 346ms/step - loss: 0.3736 - accuracy: 0.8435 - val_loss: 0.3553 - val_accuracy: 0.8490\n",
            "Epoch 99/100\n",
            "63/63 [==============================] - 22s 346ms/step - loss: 0.3753 - accuracy: 0.8495 - val_loss: 0.3821 - val_accuracy: 0.8500\n",
            "Epoch 100/100\n",
            "63/63 [==============================] - 22s 346ms/step - loss: 0.3741 - accuracy: 0.8410 - val_loss: 0.4257 - val_accuracy: 0.8300\n"
          ]
        }
      ],
      "source": [
        "# Note: running this code can take up to an hour\n",
        "model3_history = model3.fit(\n",
        "      train_generator,\n",
        "      epochs=100,\n",
        "      validation_data=validation_generator)"
      ]
    },
    {
      "cell_type": "markdown",
      "metadata": {
        "id": "4yBkNmTIZCtt"
      },
      "source": [
        "Now, let's plot the training and validation accuracy."
      ]
    },
    {
      "cell_type": "code",
      "execution_count": null,
      "metadata": {
        "colab": {
          "base_uri": "https://localhost:8080/",
          "height": 360
        },
        "id": "SQDIVI0YZLjN",
        "outputId": "19a50811-5063-4a4c-eed5-804896e805b3"
      },
      "outputs": [
        {
          "name": "stderr",
          "output_type": "stream",
          "text": [
            "/usr/local/lib/python3.6/dist-packages/statsmodels/tools/_testing.py:19: FutureWarning: pandas.util.testing is deprecated. Use the functions in the public API at pandas.testing instead.\n",
            "  import pandas.util.testing as tm\n"
          ]
        },
        {
          "data": {
            "text/plain": [
              "<matplotlib.legend.Legend at 0x7f923e6890f0>"
            ]
          },
          "execution_count": 16,
          "metadata": {
            "tags": []
          },
          "output_type": "execute_result"
        },
        {
          "data": {
            "image/png": "[encoded data removed]",
            "text/plain": [
              "<Figure size 432x288 with 1 Axes>"
            ]
          },
          "metadata": {
            "tags": []
          },
          "output_type": "display_data"
        }
      ],
      "source": [
        "import matplotlib.pyplot as plt\n",
        "import seaborn as sns\n",
        "sns.set()\n",
        "\n",
        "train_acc3  = model3_history.history['accuracy']\n",
        "train_loss3 = model3_history.history['loss']\n",
        "val_acc3  = model3_history.history['val_accuracy']\n",
        "val_loss3 = model3_history.history['val_loss']\n",
        "\n",
        "epochs = range(1, len(train_acc3) + 1)\n",
        "\n",
        "plt.plot(epochs, train_loss3, label = 'Training Loss')\n",
        "plt.plot(epochs, val_loss3, label = 'Validation Loss')\n",
        "plt.xlabel('Epochs')\n",
        "plt.ylabel('Loss')\n",
        "plt.legend()"
      ]
    },
    {
      "cell_type": "code",
      "execution_count": null,
      "metadata": {
        "colab": {
          "base_uri": "https://localhost:8080/",
          "height": 303
        },
        "id": "1uHMWvU_ZeVL",
        "outputId": "11c8b257-6c3e-4d66-dfaf-2ad8c25d6ef4"
      },
      "outputs": [
        {
          "data": {
            "text/plain": [
              "<matplotlib.legend.Legend at 0x7f923e160630>"
            ]
          },
          "execution_count": 17,
          "metadata": {
            "tags": []
          },
          "output_type": "execute_result"
        },
        {
          "data": {
            "image/png": "[encoded data removed]",
            "text/plain": [
              "<Figure size 432x288 with 1 Axes>"
            ]
          },
          "metadata": {
            "tags": []
          },
          "output_type": "display_data"
        }
      ],
      "source": [
        "plt.plot(epochs, train_acc3, label = 'Training Accuracy')\n",
        "plt.plot(epochs, val_acc3, label = 'Validation Accuracy')\n",
        "plt.xlabel('Epochs')\n",
        "plt.ylabel('Accuracy')\n",
        "plt.legend()"
      ]
    },
    {
      "cell_type": "markdown",
      "metadata": {
        "id": "Yt6dKyzQAj7O"
      },
      "source": [
        "Thanks to data augmentation and dropout, we are no longer overfitting: the validation curves are rather closely tracking the training curves.\n",
        "Let's evaluate our model3 on test data."
      ]
    },
    {
      "cell_type": "code",
      "execution_count": null,
      "metadata": {
        "colab": {
          "base_uri": "https://localhost:8080/",
          "height": 72
        },
        "id": "rXyDA5fg_stM",
        "outputId": "9ec270e8-d88f-497e-f087-97d3e970ac7e"
      },
      "outputs": [
        {
          "name": "stdout",
          "output_type": "stream",
          "text": [
            "Found 1000 images belonging to 2 classes.\n",
            "32/32 [==============================] - 4s 124ms/step - loss: 0.4672 - accuracy: 0.8160\n"
          ]
        },
        {
          "data": {
            "text/plain": [
              "[0.46716567873954773, 0.8159999847412109]"
            ]
          },
          "execution_count": 19,
          "metadata": {
            "tags": []
          },
          "output_type": "execute_result"
        }
      ],
      "source": [
        "test_datagen = ImageDataGenerator(rescale=1./255)\n",
        "\n",
        "test_generator = test_datagen.flow_from_directory(\n",
        "        test_dir,\n",
        "        target_size=(150, 150),\n",
        "        batch_size=32,\n",
        "        class_mode='binary')\n",
        "\n",
        "model3.evaluate(test_generator)"
      ]
    },
    {
      "cell_type": "markdown",
      "metadata": {
        "id": "Tu7WIjbNZLvm"
      },
      "source": [
        "We are now able to reach an accuracy of 81.6% on the test data. This is much better than the base model (71.7%) and the model with only dropout (73.6%).\n",
        "\n",
        "By leveraging regularization techniques even further and by tuning the network's parameters (such as the number of filters per convolution\n",
        "layer, or the number of layers in the network), we may still be able to slightly improve the accuracy. However, it would prove\n",
        "very difficult to go much higher just by training our own CNN from scratch, simply because we have so little data to work with. As a\n",
        "next step to improve our accuracy on this problem, we will have to leverage a pre-trained model.\n",
        "\n"
      ]
    },
    {
      "cell_type": "markdown",
      "metadata": {
        "id": "Ycz35yPIY9ev"
      },
      "source": [
        "Before we move on, we can save this third model as follows."
      ]
    },
    {
      "cell_type": "code",
      "execution_count": null,
      "metadata": {
        "id": "lpnSgXVVY9pM"
      },
      "outputs": [],
      "source": [
        "model3.save(\"/content/drive/MyDrive/BUAI 446/Module04/CatsDogs_model3.h5\")"
      ]
    },
    {
      "cell_type": "markdown",
      "metadata": {
        "id": "Cf5OFFsqpVI2"
      },
      "source": [
        "# Transfer learning: Using a pre-trained CNN\n",
        "\n",
        "A common and highly effective approach to deep learning on small image datasets is to leverage a pre-trained network. A pre-trained network\n",
        "is simply a saved network previously trained on a large dataset, typically on a large-scale image classification task. If this original\n",
        "dataset is large enough and general enough, then the spatial feature hierarchy learned by the pre-trained network can effectively act as a\n",
        "generic model of our visual world, and hence its features can prove useful for many different computer vision problems, even though these\n",
        "new problems might involve completely different classes from those of the original task. For instance, one might train a network on\n",
        "ImageNet (where classes are mostly animals and everyday objects) and then re-purpose this trained network for something like identifying furniture items in images. Such portability of learned features across different problems is a key advantage of deep learning\n",
        "compared to many older shallow learning approaches (e.g., logistic regression), and it makes deep learning very effective for small-data problems.\n",
        "\n",
        "In our case, we will consider a large CNN trained on the ImageNet dataset (1.4 million labeled images and 1000 different classes).\n",
        "We will use the VGG16 architecture, developed by Karen Simonyan and Andrew Zisserman in 2014, a simple and widely used CNN architecture\n",
        "for ImageNet. We chose VGG16 because its architecture is similar to what you are already familiar with, and easy to understand without introducing any new concepts."
      ]
    },
    {
      "cell_type": "markdown",
      "metadata": {
        "id": "81rds7Rbr0Lr"
      },
      "source": [
        "## Feature extraction using transfer learning\n",
        "\n",
        "Feature extraction consists of using the representations learned by a previous network to extract interesting features from new samples.\n",
        "These features are then run through a new classifier, which is trained from scratch.\n",
        "\n",
        "As we saw previously, CNNs used for image classification comprise two parts: they start with a series of convolution and pooling\n",
        "layers, and they end with a densely-connected classifier. The first part is called the \"convolutional base\" of the model. In the case of CNNs, \"feature extraction\" will simply consist of taking the convolutional base of a previously-trained network, running the new data through it, and training a new classifier on top of the output.\n",
        "\n",
        "![swapping FC classifiers](https://s3.amazonaws.com/book.keras.io/img/ch5/swapping_fc_classifier.png)\n",
        "\n",
        "Why only reuse the convolutional base? Could we reuse the densely-connected classifier as well? In general, it should be avoided. The reason is simply that the representations learned by the convolutional base are likely to be more generic and therefore more reusable: the\n",
        "feature maps of a CNN are presence maps of generic concepts over a picture, which is likely to be useful regardless of the computer vision problem at hand. On the other end, the representations learned by the densely-connected classifier will be very specific to the set of\n",
        "classes that the model was trained on -- they will only contain information about the presence probability of this or that class in the\n",
        "entire picture."
      ]
    },
    {
      "cell_type": "markdown",
      "metadata": {
        "id": "XcgPsVeKtzGK"
      },
      "source": [
        "Let's put this in practice by using the convolutional base of the VGG16 network, trained on ImageNet, to extract interesting features from our cat and dog images, and then training a cat vs. dog classifier on top of these features.\n",
        "\n",
        "The VGG16 model, among others, comes pre-packaged with Keras. You can import it from the `tensorflow.keras.applications` module. Here's the list of\n",
        "image classification models (all pre-trained on the ImageNet dataset) that are available as part of `tensorflow.keras.applications`:\n",
        "\n",
        "* Xception\n",
        "* InceptionV3\n",
        "* ResNet50\n",
        "* VGG16\n",
        "* VGG19\n",
        "* MobileNet\n",
        "\n",
        "Let's instantiate the VGG16 model:"
      ]
    },
    {
      "cell_type": "code",
      "execution_count": null,
      "metadata": {
        "id": "gbpq_1bctfNv"
      },
      "outputs": [],
      "source": [
        "from tensorflow.keras.applications import VGG16\n",
        "\n",
        "conv_base = VGG16(weights='imagenet',\n",
        "                  include_top=False,\n",
        "                  input_shape=(150, 150, 3))"
      ]
    },
    {
      "cell_type": "markdown",
      "metadata": {
        "id": "T9BafBW8uSu_"
      },
      "source": [
        "We passed three arguments to VGG16 constructor:\n",
        "\n",
        "* `weights`, to specify which weight checkpoint to initialize the model from\n",
        "* `include_top`, which refers to including or not the densely-connected classifier on top of the network. By default, this\n",
        "densely-connected classifier would correspond to the 1000 classes from ImageNet. Since we intend to use our own densely-connected\n",
        "classifier (with only two classes, cat and dog), we don't need to include it.\n",
        "* `input_shape`, the shape of the image tensors that we will feed to the network. This argument is purely optional: if we don't pass it,\n",
        "then the network will be able to process inputs of any size.\n",
        "\n",
        "For more information on the arguments, please see [here](https://keras.io/api/applications/vgg/).\n",
        "\n",
        "Here's the detail of the architecture of the VGG16 convolutional base: it's very similar to the simple convnets that you are already familiar with."
      ]
    },
    {
      "cell_type": "code",
      "execution_count": null,
      "metadata": {
        "colab": {
          "base_uri": "https://localhost:8080/",
          "height": 853
        },
        "id": "WD2MfEgou77t",
        "outputId": "896eadc0-517c-428d-8fd6-367d6c73c5f6"
      },
      "outputs": [
        {
          "name": "stdout",
          "output_type": "stream",
          "text": [
            "Model: \"vgg16\"\n",
            "_________________________________________________________________\n",
            "Layer (type)                 Output Shape              Param #   \n",
            "=================================================================\n",
            "input_2 (InputLayer)         [(None, 150, 150, 3)]     0         \n",
            "_________________________________________________________________\n",
            "block1_conv1 (Conv2D)        (None, 150, 150, 64)      1792      \n",
            "_________________________________________________________________\n",
            "block1_conv2 (Conv2D)        (None, 150, 150, 64)      36928     \n",
            "_________________________________________________________________\n",
            "block1_pool (MaxPooling2D)   (None, 75, 75, 64)        0         \n",
            "_________________________________________________________________\n",
            "block2_conv1 (Conv2D)        (None, 75, 75, 128)       73856     \n",
            "_________________________________________________________________\n",
            "block2_conv2 (Conv2D)        (None, 75, 75, 128)       147584    \n",
            "_________________________________________________________________\n",
            "block2_pool (MaxPooling2D)   (None, 37, 37, 128)       0         \n",
            "_________________________________________________________________\n",
            "block3_conv1 (Conv2D)        (None, 37, 37, 256)       295168    \n",
            "_________________________________________________________________\n",
            "block3_conv2 (Conv2D)        (None, 37, 37, 256)       590080    \n",
            "_________________________________________________________________\n",
            "block3_conv3 (Conv2D)        (None, 37, 37, 256)       590080    \n",
            "_________________________________________________________________\n",
            "block3_pool (MaxPooling2D)   (None, 18, 18, 256)       0         \n",
            "_________________________________________________________________\n",
            "block4_conv1 (Conv2D)        (None, 18, 18, 512)       1180160   \n",
            "_________________________________________________________________\n",
            "block4_conv2 (Conv2D)        (None, 18, 18, 512)       2359808   \n",
            "_________________________________________________________________\n",
            "block4_conv3 (Conv2D)        (None, 18, 18, 512)       2359808   \n",
            "_________________________________________________________________\n",
            "block4_pool (MaxPooling2D)   (None, 9, 9, 512)         0         \n",
            "_________________________________________________________________\n",
            "block5_conv1 (Conv2D)        (None, 9, 9, 512)         2359808   \n",
            "_________________________________________________________________\n",
            "block5_conv2 (Conv2D)        (None, 9, 9, 512)         2359808   \n",
            "_________________________________________________________________\n",
            "block5_conv3 (Conv2D)        (None, 9, 9, 512)         2359808   \n",
            "_________________________________________________________________\n",
            "block5_pool (MaxPooling2D)   (None, 4, 4, 512)         0         \n",
            "=================================================================\n",
            "Total params: 14,714,688\n",
            "Trainable params: 14,714,688\n",
            "Non-trainable params: 0\n",
            "_________________________________________________________________\n"
          ]
        }
      ],
      "source": [
        "conv_base.summary()"
      ]
    },
    {
      "cell_type": "markdown",
      "metadata": {
        "id": "CwHOS5SLv4Gq"
      },
      "source": [
        "Let's add a densely-connected classifier on top of this convolutional base. Do not forget the Flatten layer (recall that densely-connected layers only accept vectors as their input).\n"
      ]
    },
    {
      "cell_type": "code",
      "execution_count": null,
      "metadata": {
        "id": "mgBy6_K2H_nH"
      },
      "outputs": [],
      "source": [
        "model4 = models.Sequential()\n",
        "\n",
        "model4.add(conv_base)\n",
        "\n",
        "model4.add(layers.Flatten())\n",
        "model4.add(layers.Dense(256, activation='relu'))\n",
        "model4.add(layers.Dense(1, activation='sigmoid'))"
      ]
    },
    {
      "cell_type": "code",
      "execution_count": null,
      "metadata": {
        "colab": {
          "base_uri": "https://localhost:8080/",
          "height": 308
        },
        "id": "zXK4ZqCXIKVJ",
        "outputId": "5aae1ec5-9520-4706-b0d9-2dc36e821eb5"
      },
      "outputs": [
        {
          "name": "stdout",
          "output_type": "stream",
          "text": [
            "Model: \"sequential_3\"\n",
            "_________________________________________________________________\n",
            "Layer (type)                 Output Shape              Param #   \n",
            "=================================================================\n",
            "vgg16 (Functional)           (None, 4, 4, 512)         14714688  \n",
            "_________________________________________________________________\n",
            "flatten_3 (Flatten)          (None, 8192)              0         \n",
            "_________________________________________________________________\n",
            "dense_6 (Dense)              (None, 256)               2097408   \n",
            "_________________________________________________________________\n",
            "dense_7 (Dense)              (None, 1)                 257       \n",
            "=================================================================\n",
            "Total params: 16,812,353\n",
            "Trainable params: 16,812,353\n",
            "Non-trainable params: 0\n",
            "_________________________________________________________________\n"
          ]
        }
      ],
      "source": [
        "model4.summary()"
      ]
    },
    {
      "cell_type": "markdown",
      "metadata": {
        "id": "XtDQw4msmVjs"
      },
      "source": [
        "Next, we are going to \"freeze\" the convolutional base so that its pre-trained weights and biases do not change during the training of our densely-connected classifier."
      ]
    },
    {
      "cell_type": "code",
      "execution_count": null,
      "metadata": {
        "id": "UAQr5LlyIXNl"
      },
      "outputs": [],
      "source": [
        "conv_base.trainable = False"
      ]
    },
    {
      "cell_type": "markdown",
      "metadata": {
        "id": "m7EvZH2YmpSM"
      },
      "source": [
        "Next, we use `ImageDataGenerator` as before to convert raw images into tensors that can be fed into our neural network. We also do data augmentation as we did in our previous model."
      ]
    },
    {
      "cell_type": "code",
      "execution_count": null,
      "metadata": {
        "colab": {
          "base_uri": "https://localhost:8080/",
          "height": 53
        },
        "id": "X8zUCjxYIokU",
        "outputId": "610ca743-f125-498b-87b6-5d0135f2993e"
      },
      "outputs": [
        {
          "name": "stdout",
          "output_type": "stream",
          "text": [
            "Found 2000 images belonging to 2 classes.\n",
            "Found 1000 images belonging to 2 classes.\n"
          ]
        }
      ],
      "source": [
        "# Define the data augmentation parameters in ImageDataGenerator\n",
        "train_datagen = ImageDataGenerator(\n",
        "    rescale=1./255,\n",
        "    rotation_range=40,\n",
        "    width_shift_range=0.2,\n",
        "    height_shift_range=0.2,\n",
        "    shear_range=0.2,\n",
        "    zoom_range=0.2,\n",
        "    horizontal_flip=True)\n",
        "\n",
        "# Note that the validation data should NOT be augmented\n",
        "validation_datagen = ImageDataGenerator(rescale=1./255)\n",
        "\n",
        "train_generator = train_datagen.flow_from_directory(\n",
        "        train_dir,\n",
        "        target_size=(150, 150),\n",
        "        batch_size=32,\n",
        "        class_mode='binary')\n",
        "\n",
        "validation_generator = validation_datagen.flow_from_directory(\n",
        "        validation_dir,\n",
        "        target_size=(150, 150),\n",
        "        batch_size=32,\n",
        "        class_mode='binary')"
      ]
    },
    {
      "cell_type": "markdown",
      "metadata": {
        "id": "coMnJfWJnEA7"
      },
      "source": [
        "Now we are ready to compile and train our model."
      ]
    },
    {
      "cell_type": "code",
      "execution_count": null,
      "metadata": {
        "id": "S2r6evMZI2KO"
      },
      "outputs": [],
      "source": [
        "model4.compile(loss='binary_crossentropy',\n",
        "               optimizer='rmsprop',\n",
        "               metrics=['accuracy'])"
      ]
    },
    {
      "cell_type": "code",
      "execution_count": null,
      "metadata": {
        "colab": {
          "base_uri": "https://localhost:8080/",
          "height": 1000
        },
        "id": "7_QVjJTCI8rJ",
        "outputId": "c869df3c-6b4a-48c3-a637-1faa8cf395b2"
      },
      "outputs": [
        {
          "name": "stdout",
          "output_type": "stream",
          "text": [
            "Epoch 1/50\n",
            "63/63 [==============================] - 23s 361ms/step - loss: 1.0670 - accuracy: 0.6540 - val_loss: 0.3210 - val_accuracy: 0.8640\n",
            "Epoch 2/50\n",
            "63/63 [==============================] - 22s 355ms/step - loss: 0.5467 - accuracy: 0.7545 - val_loss: 0.2723 - val_accuracy: 0.8850\n",
            "Epoch 3/50\n",
            "63/63 [==============================] - 22s 355ms/step - loss: 0.4768 - accuracy: 0.7890 - val_loss: 0.2856 - val_accuracy: 0.8770\n",
            "Epoch 4/50\n",
            "63/63 [==============================] - 22s 354ms/step - loss: 0.4768 - accuracy: 0.7825 - val_loss: 0.2859 - val_accuracy: 0.8770\n",
            "Epoch 5/50\n",
            "63/63 [==============================] - 22s 354ms/step - loss: 0.4442 - accuracy: 0.7990 - val_loss: 0.3408 - val_accuracy: 0.8380\n",
            "Epoch 6/50\n",
            "63/63 [==============================] - 22s 357ms/step - loss: 0.4009 - accuracy: 0.8150 - val_loss: 0.5930 - val_accuracy: 0.7490\n",
            "Epoch 7/50\n",
            "63/63 [==============================] - 22s 356ms/step - loss: 0.3710 - accuracy: 0.8400 - val_loss: 0.2787 - val_accuracy: 0.8780\n",
            "Epoch 8/50\n",
            "63/63 [==============================] - 22s 357ms/step - loss: 0.3674 - accuracy: 0.8395 - val_loss: 0.2978 - val_accuracy: 0.8700\n",
            "Epoch 9/50\n",
            "63/63 [==============================] - 23s 358ms/step - loss: 0.3465 - accuracy: 0.8420 - val_loss: 0.2695 - val_accuracy: 0.8800\n",
            "Epoch 10/50\n",
            "63/63 [==============================] - 22s 354ms/step - loss: 0.3327 - accuracy: 0.8520 - val_loss: 0.4410 - val_accuracy: 0.8140\n",
            "Epoch 11/50\n",
            "63/63 [==============================] - 22s 357ms/step - loss: 0.3358 - accuracy: 0.8470 - val_loss: 0.3570 - val_accuracy: 0.8270\n",
            "Epoch 12/50\n",
            "63/63 [==============================] - 23s 368ms/step - loss: 0.3439 - accuracy: 0.8375 - val_loss: 0.4652 - val_accuracy: 0.8130\n",
            "Epoch 13/50\n",
            "63/63 [==============================] - 22s 356ms/step - loss: 0.3394 - accuracy: 0.8500 - val_loss: 0.2343 - val_accuracy: 0.9100\n",
            "Epoch 14/50\n",
            "63/63 [==============================] - 23s 357ms/step - loss: 0.3480 - accuracy: 0.8400 - val_loss: 0.2367 - val_accuracy: 0.9040\n",
            "Epoch 15/50\n",
            "63/63 [==============================] - 22s 356ms/step - loss: 0.3189 - accuracy: 0.8620 - val_loss: 0.2435 - val_accuracy: 0.8970\n",
            "Epoch 16/50\n",
            "63/63 [==============================] - 23s 357ms/step - loss: 0.3020 - accuracy: 0.8740 - val_loss: 0.2473 - val_accuracy: 0.8990\n",
            "Epoch 17/50\n",
            "63/63 [==============================] - 23s 357ms/step - loss: 0.3173 - accuracy: 0.8550 - val_loss: 0.3150 - val_accuracy: 0.8640\n",
            "Epoch 18/50\n",
            "63/63 [==============================] - 22s 356ms/step - loss: 0.3071 - accuracy: 0.8735 - val_loss: 0.2510 - val_accuracy: 0.9010\n",
            "Epoch 19/50\n",
            "63/63 [==============================] - 23s 359ms/step - loss: 0.2993 - accuracy: 0.8685 - val_loss: 0.3074 - val_accuracy: 0.8730\n",
            "Epoch 20/50\n",
            "63/63 [==============================] - 22s 355ms/step - loss: 0.2953 - accuracy: 0.8660 - val_loss: 0.2830 - val_accuracy: 0.8800\n",
            "Epoch 21/50\n",
            "63/63 [==============================] - 22s 356ms/step - loss: 0.2873 - accuracy: 0.8685 - val_loss: 0.3087 - val_accuracy: 0.8690\n",
            "Epoch 22/50\n",
            "63/63 [==============================] - 23s 360ms/step - loss: 0.2804 - accuracy: 0.8665 - val_loss: 0.2323 - val_accuracy: 0.9090\n",
            "Epoch 23/50\n",
            "63/63 [==============================] - 23s 357ms/step - loss: 0.2776 - accuracy: 0.8780 - val_loss: 0.2436 - val_accuracy: 0.9030\n",
            "Epoch 24/50\n",
            "63/63 [==============================] - 22s 357ms/step - loss: 0.2810 - accuracy: 0.8755 - val_loss: 0.2782 - val_accuracy: 0.8930\n",
            "Epoch 25/50\n",
            "63/63 [==============================] - 22s 355ms/step - loss: 0.2694 - accuracy: 0.8855 - val_loss: 0.2581 - val_accuracy: 0.8940\n",
            "Epoch 26/50\n",
            "63/63 [==============================] - 23s 366ms/step - loss: 0.2831 - accuracy: 0.8815 - val_loss: 0.2424 - val_accuracy: 0.9040\n",
            "Epoch 27/50\n",
            "63/63 [==============================] - 22s 357ms/step - loss: 0.2826 - accuracy: 0.8720 - val_loss: 0.2899 - val_accuracy: 0.8880\n",
            "Epoch 28/50\n",
            "63/63 [==============================] - 22s 356ms/step - loss: 0.2761 - accuracy: 0.8765 - val_loss: 0.2527 - val_accuracy: 0.8950\n",
            "Epoch 29/50\n",
            "63/63 [==============================] - 22s 357ms/step - loss: 0.2649 - accuracy: 0.8895 - val_loss: 0.2479 - val_accuracy: 0.9030\n",
            "Epoch 30/50\n",
            "63/63 [==============================] - 22s 356ms/step - loss: 0.2734 - accuracy: 0.8850 - val_loss: 0.2604 - val_accuracy: 0.8950\n",
            "Epoch 31/50\n",
            "63/63 [==============================] - 22s 355ms/step - loss: 0.2623 - accuracy: 0.8885 - val_loss: 0.3095 - val_accuracy: 0.8780\n",
            "Epoch 32/50\n",
            "63/63 [==============================] - 23s 357ms/step - loss: 0.2630 - accuracy: 0.8845 - val_loss: 0.2422 - val_accuracy: 0.9020\n",
            "Epoch 33/50\n",
            "63/63 [==============================] - 22s 356ms/step - loss: 0.2558 - accuracy: 0.8870 - val_loss: 0.2762 - val_accuracy: 0.8950\n",
            "Epoch 34/50\n",
            "63/63 [==============================] - 23s 357ms/step - loss: 0.2602 - accuracy: 0.8910 - val_loss: 0.2524 - val_accuracy: 0.9020\n",
            "Epoch 35/50\n",
            "63/63 [==============================] - 23s 358ms/step - loss: 0.2429 - accuracy: 0.8945 - val_loss: 0.2565 - val_accuracy: 0.9030\n",
            "Epoch 36/50\n",
            "63/63 [==============================] - 22s 355ms/step - loss: 0.2528 - accuracy: 0.8925 - val_loss: 0.3061 - val_accuracy: 0.8910\n",
            "Epoch 37/50\n",
            "63/63 [==============================] - 22s 357ms/step - loss: 0.2661 - accuracy: 0.8875 - val_loss: 0.2544 - val_accuracy: 0.9080\n",
            "Epoch 38/50\n",
            "63/63 [==============================] - 22s 356ms/step - loss: 0.2358 - accuracy: 0.8980 - val_loss: 0.3054 - val_accuracy: 0.8760\n",
            "Epoch 39/50\n",
            "63/63 [==============================] - 23s 367ms/step - loss: 0.2378 - accuracy: 0.9005 - val_loss: 0.2542 - val_accuracy: 0.9040\n",
            "Epoch 40/50\n",
            "63/63 [==============================] - 22s 357ms/step - loss: 0.2540 - accuracy: 0.8910 - val_loss: 0.2495 - val_accuracy: 0.9090\n",
            "Epoch 41/50\n",
            "63/63 [==============================] - 22s 354ms/step - loss: 0.2346 - accuracy: 0.8975 - val_loss: 0.2756 - val_accuracy: 0.9000\n",
            "Epoch 42/50\n",
            "63/63 [==============================] - 22s 354ms/step - loss: 0.2340 - accuracy: 0.9005 - val_loss: 0.2722 - val_accuracy: 0.8970\n",
            "Epoch 43/50\n",
            "63/63 [==============================] - 22s 355ms/step - loss: 0.2326 - accuracy: 0.8955 - val_loss: 0.3048 - val_accuracy: 0.8900\n",
            "Epoch 44/50\n",
            "63/63 [==============================] - 22s 355ms/step - loss: 0.2369 - accuracy: 0.8975 - val_loss: 0.2545 - val_accuracy: 0.9050\n",
            "Epoch 45/50\n",
            "63/63 [==============================] - 22s 356ms/step - loss: 0.2408 - accuracy: 0.8970 - val_loss: 0.2761 - val_accuracy: 0.8970\n",
            "Epoch 46/50\n",
            "63/63 [==============================] - 22s 353ms/step - loss: 0.2211 - accuracy: 0.9060 - val_loss: 0.2716 - val_accuracy: 0.8960\n",
            "Epoch 47/50\n",
            "63/63 [==============================] - 22s 354ms/step - loss: 0.2214 - accuracy: 0.9040 - val_loss: 0.2692 - val_accuracy: 0.8940\n",
            "Epoch 48/50\n",
            "63/63 [==============================] - 22s 356ms/step - loss: 0.2506 - accuracy: 0.8980 - val_loss: 0.2599 - val_accuracy: 0.9030\n",
            "Epoch 49/50\n",
            "63/63 [==============================] - 23s 357ms/step - loss: 0.2204 - accuracy: 0.9080 - val_loss: 0.2804 - val_accuracy: 0.9060\n",
            "Epoch 50/50\n",
            "63/63 [==============================] - 22s 354ms/step - loss: 0.2406 - accuracy: 0.8975 - val_loss: 0.2725 - val_accuracy: 0.8910\n"
          ]
        }
      ],
      "source": [
        "# Note: running this code can take up to an hour\n",
        "model4_history = model4.fit(\n",
        "      train_generator,\n",
        "      epochs=50,\n",
        "      validation_data=validation_generator)"
      ]
    },
    {
      "cell_type": "markdown",
      "metadata": {
        "id": "yFCB8pwUKWSQ"
      },
      "source": [
        "Saving the model:"
      ]
    },
    {
      "cell_type": "code",
      "execution_count": null,
      "metadata": {
        "id": "KgOvhBLwKXzz"
      },
      "outputs": [],
      "source": [
        "model4.save(\"/content/drive/MyDrive/BUAI 446/Module04/CatsDogs_model4.h5\")"
      ]
    },
    {
      "cell_type": "markdown",
      "metadata": {
        "id": "eSBXMbCLKfJK"
      },
      "source": [
        "Now, let's plot the training and validation accuracy."
      ]
    },
    {
      "cell_type": "code",
      "execution_count": null,
      "metadata": {
        "colab": {
          "base_uri": "https://localhost:8080/",
          "height": 303
        },
        "id": "nW989GJ5Kfka",
        "outputId": "156f0589-e6d1-4c95-d766-231bdbd22f10"
      },
      "outputs": [
        {
          "data": {
            "text/plain": [
              "<matplotlib.legend.Legend at 0x7f90b7f34a90>"
            ]
          },
          "execution_count": 53,
          "metadata": {
            "tags": []
          },
          "output_type": "execute_result"
        },
        {
          "data": {
            "image/png": "[encoded data removed]",
            "text/plain": [
              "<Figure size 432x288 with 1 Axes>"
            ]
          },
          "metadata": {
            "tags": []
          },
          "output_type": "display_data"
        }
      ],
      "source": [
        "train_acc4  = model4_history.history['accuracy']\n",
        "train_loss4 = model4_history.history['loss']\n",
        "val_acc4  = model4_history.history['val_accuracy']\n",
        "val_loss4 = model4_history.history['val_loss']\n",
        "\n",
        "epochs = range(1, len(train_acc4) + 1)\n",
        "\n",
        "plt.plot(epochs, train_loss4, label = 'Training Loss')\n",
        "plt.plot(epochs, val_loss4, label = 'Validation Loss')\n",
        "plt.xlabel('Epochs')\n",
        "plt.ylabel('Loss')\n",
        "plt.legend()"
      ]
    },
    {
      "cell_type": "code",
      "execution_count": null,
      "metadata": {
        "colab": {
          "base_uri": "https://localhost:8080/",
          "height": 303
        },
        "id": "8taY41DCKtNV",
        "outputId": "f498a110-eb34-41c3-aa4a-313a29628226"
      },
      "outputs": [
        {
          "data": {
            "text/plain": [
              "<matplotlib.legend.Legend at 0x7f90b6e73128>"
            ]
          },
          "execution_count": 54,
          "metadata": {
            "tags": []
          },
          "output_type": "execute_result"
        },
        {
          "data": {
            "image/png": "[encoded data removed]",
            "text/plain": [
              "<Figure size 432x288 with 1 Axes>"
            ]
          },
          "metadata": {
            "tags": []
          },
          "output_type": "display_data"
        }
      ],
      "source": [
        "plt.plot(epochs, train_acc4, label = 'Training Accuracy')\n",
        "plt.plot(epochs, val_acc4, label = 'Validation Accuracy')\n",
        "plt.xlabel('Epochs')\n",
        "plt.ylabel('Accuracy')\n",
        "plt.legend()"
      ]
    },
    {
      "cell_type": "markdown",
      "metadata": {
        "id": "k3-F7EsSnMod"
      },
      "source": [
        "As you can see, the model does not seem to overfit. The validation and training curves are close to each other, and the validation accuracy is around 90%.\n",
        "Let's see how our model performs on the test set."
      ]
    },
    {
      "cell_type": "code",
      "execution_count": null,
      "metadata": {
        "colab": {
          "base_uri": "https://localhost:8080/",
          "height": 72
        },
        "id": "hvy8U78aY4A8",
        "outputId": "f17aa717-226a-4f60-9e2f-39e5b1b252a6"
      },
      "outputs": [
        {
          "name": "stdout",
          "output_type": "stream",
          "text": [
            "Found 1000 images belonging to 2 classes.\n",
            "32/32 [==============================] - 4s 127ms/step - loss: 0.2679 - accuracy: 0.9010\n"
          ]
        },
        {
          "data": {
            "text/plain": [
              "[0.2678591012954712, 0.9010000228881836]"
            ]
          },
          "execution_count": 56,
          "metadata": {
            "tags": []
          },
          "output_type": "execute_result"
        }
      ],
      "source": [
        "test_datagen = ImageDataGenerator(rescale=1./255)\n",
        "\n",
        "test_generator = test_datagen.flow_from_directory(\n",
        "        test_dir,\n",
        "        target_size=(150, 150),\n",
        "        batch_size=32,\n",
        "        class_mode='binary')\n",
        "\n",
        "model4.evaluate(test_generator)"
      ]
    },
    {
      "cell_type": "markdown",
      "metadata": {
        "id": "avGxnDVOZFsw"
      },
      "source": [
        "We reach a test accuracy of 90.1%. This is much better than what we had before"
      ]
    },
    {
      "cell_type": "markdown",
      "metadata": {
        "id": "4EYTouxQoLt6"
      },
      "source": [
        "## Fine-tuning\n",
        "\n",
        "Fine-tuning consists of unfreezing a few of the top layers\n",
        "of a frozen model base used for feature extraction, and jointly training both the newly added part of the model (in our case, the\n",
        "densely-connected classifier) and these top layers. This is called \"fine-tuning\" because it slightly adjusts the more abstract\n",
        "representations of the pre-trained model being reused, in order to make them more relevant for the problem at hand.\n"
      ]
    },
    {
      "cell_type": "markdown",
      "metadata": {
        "id": "RpLxszgIoiny"
      },
      "source": [
        "We have stated before that it was necessary to freeze the convolution base of VGG16 in order to be able to train a randomly initialized\n",
        "classifier on top. For the same reason, it is only possible to fine-tune the top layers of the convolutional base once the classifier on\n",
        "top has already been trained. If the classified wasn't already trained, then the error signal propagating through the network during\n",
        "training would be too large, and the representations previously learned by the layers being fine-tuned would be destroyed. Thus the steps\n",
        "for fine-tuning a network are as follow:\n",
        "\n",
        "* 1) Add your custom network on top of an already trained base network.\n",
        "* 2) Freeze the base network.\n",
        "* 3) Train the part you added.\n",
        "* 4) Unfreeze some layers in the base network.\n",
        "* 5) Jointly train both these layers and the part you added.\n",
        "\n",
        "We have already completed the first 3 steps when doing feature extraction using transfer learning. Let's proceed with the 4th step: we will unfreeze the top 3 convolutional layers of our VGG16 convolutional base.\n",
        "\n",
        "\n",
        "![fine-tuning VGG16](https://s3.amazonaws.com/book.keras.io/img/ch5/vgg16_fine_tuning.png)\n",
        "\n",
        "As a reminder, this is what our convolutional base looks like:"
      ]
    },
    {
      "cell_type": "code",
      "execution_count": null,
      "metadata": {
        "colab": {
          "base_uri": "https://localhost:8080/",
          "height": 853
        },
        "id": "QW3XeHAcq3bU",
        "outputId": "bcbf9726-c121-4424-d9b7-dcfe7d9b3cc2"
      },
      "outputs": [
        {
          "name": "stdout",
          "output_type": "stream",
          "text": [
            "Model: \"vgg16\"\n",
            "_________________________________________________________________\n",
            "Layer (type)                 Output Shape              Param #   \n",
            "=================================================================\n",
            "input_1 (InputLayer)         [(None, 150, 150, 3)]     0         \n",
            "_________________________________________________________________\n",
            "block1_conv1 (Conv2D)        (None, 150, 150, 64)      1792      \n",
            "_________________________________________________________________\n",
            "block1_conv2 (Conv2D)        (None, 150, 150, 64)      36928     \n",
            "_________________________________________________________________\n",
            "block1_pool (MaxPooling2D)   (None, 75, 75, 64)        0         \n",
            "_________________________________________________________________\n",
            "block2_conv1 (Conv2D)        (None, 75, 75, 128)       73856     \n",
            "_________________________________________________________________\n",
            "block2_conv2 (Conv2D)        (None, 75, 75, 128)       147584    \n",
            "_________________________________________________________________\n",
            "block2_pool (MaxPooling2D)   (None, 37, 37, 128)       0         \n",
            "_________________________________________________________________\n",
            "block3_conv1 (Conv2D)        (None, 37, 37, 256)       295168    \n",
            "_________________________________________________________________\n",
            "block3_conv2 (Conv2D)        (None, 37, 37, 256)       590080    \n",
            "_________________________________________________________________\n",
            "block3_conv3 (Conv2D)        (None, 37, 37, 256)       590080    \n",
            "_________________________________________________________________\n",
            "block3_pool (MaxPooling2D)   (None, 18, 18, 256)       0         \n",
            "_________________________________________________________________\n",
            "block4_conv1 (Conv2D)        (None, 18, 18, 512)       1180160   \n",
            "_________________________________________________________________\n",
            "block4_conv2 (Conv2D)        (None, 18, 18, 512)       2359808   \n",
            "_________________________________________________________________\n",
            "block4_conv3 (Conv2D)        (None, 18, 18, 512)       2359808   \n",
            "_________________________________________________________________\n",
            "block4_pool (MaxPooling2D)   (None, 9, 9, 512)         0         \n",
            "_________________________________________________________________\n",
            "block5_conv1 (Conv2D)        (None, 9, 9, 512)         2359808   \n",
            "_________________________________________________________________\n",
            "block5_conv2 (Conv2D)        (None, 9, 9, 512)         2359808   \n",
            "_________________________________________________________________\n",
            "block5_conv3 (Conv2D)        (None, 9, 9, 512)         2359808   \n",
            "_________________________________________________________________\n",
            "block5_pool (MaxPooling2D)   (None, 4, 4, 512)         0         \n",
            "=================================================================\n",
            "Total params: 14,714,688\n",
            "Trainable params: 0\n",
            "Non-trainable params: 14,714,688\n",
            "_________________________________________________________________\n"
          ]
        }
      ],
      "source": [
        "conv_base.summary()"
      ]
    },
    {
      "cell_type": "markdown",
      "metadata": {
        "id": "EGlLnbWZq54d"
      },
      "source": [
        "We will fine-tune the last 3 convolutional layers, which means that all layers up until `block4_pool` should be frozen, and the layers\n",
        "`block5_conv1`, `block5_conv2` and `block5_conv3` should be trainable.\n",
        "\n",
        "Why not fine-tune more layers? Why not fine-tune the entire convolutional base? We could. However, we need to consider that:\n",
        "\n",
        "* Earlier layers in the convolutional base encode more generic, reusable features, while layers higher up encode more specialized features. It is\n",
        "more useful to fine-tune the more specialized features, as these are the ones that need to be repurposed on our new problem. There would\n",
        "be fast-decreasing returns in fine-tuning lower layers.\n",
        "* The more parameters we are training, the more we are at risk of overfitting. The convolutional base has 15M parameters, so it would be\n",
        "risky to attempt to train it on our small dataset.\n",
        "\n",
        "Thus, in our situation, it is a good strategy to only fine-tune the top 3 layers in the convolutional base.\n",
        "\n",
        "Let's set this up, starting from where we left off in the previous example:"
      ]
    },
    {
      "cell_type": "code",
      "execution_count": null,
      "metadata": {
        "id": "MZX5xRnBAAeW"
      },
      "outputs": [],
      "source": [
        "model4 = models.load_model(\"/content/drive/MyDrive/BUAI 446/Module04/CatsDogs_model4.h5\")"
      ]
    },
    {
      "cell_type": "code",
      "execution_count": null,
      "metadata": {
        "id": "nxGNmnCIrPW6"
      },
      "outputs": [],
      "source": [
        "conv_base.trainable = False\n",
        "\n",
        "for layer in conv_base.layers:\n",
        "    if layer.name == 'block5_conv1': layer.trainable = True\n",
        "    if layer.name == 'block5_conv2': layer.trainable = True\n",
        "    if layer.name == 'block5_conv3': layer.trainable = True\n"
      ]
    },
    {
      "cell_type": "markdown",
      "metadata": {
        "id": "tLfSWrsMvrBt"
      },
      "source": [
        "Now we can start fine-tuning our network. We will do this with the RMSprop optimizer, using a very low learning rate. The reason for using\n",
        "a low learning rate is that we want to limit the magnitude of the modifications we make to the representations of the 3 layers that we are\n",
        "fine-tuning. Updates that are too large may harm these representations.\n",
        "\n",
        "The default learning rate for RMSProp is 0.001; below, I reduce the learning rate to 0.00001."
      ]
    },
    {
      "cell_type": "code",
      "execution_count": null,
      "metadata": {
        "id": "o1hUjtmqx3NT"
      },
      "outputs": [],
      "source": [
        "from tensorflow.keras import optimizers\n",
        "\n",
        "model4.compile(loss='binary_crossentropy',\n",
        "               optimizer=optimizers.RMSprop(learning_rate=0.00001),\n",
        "               metrics=['accuracy'])"
      ]
    },
    {
      "cell_type": "markdown",
      "metadata": {
        "id": "umXAxwAFwPT_"
      },
      "source": [
        "Now, we are ready to start fine-tuning the model. Note that the training process of model4 continues from where it was left before. That is, the first epoch below corresponds to epoch 51 of the training process of model4. (we previously trained model4 for 50 epochs, then we unfroze some of the layers, and now we are continuing the training process for another 100 epochs.)"
      ]
    },
    {
      "cell_type": "code",
      "execution_count": null,
      "metadata": {
        "colab": {
          "base_uri": "https://localhost:8080/",
          "height": 1000
        },
        "id": "MCrMvqOgsj40",
        "outputId": "eb0e482b-e902-48ad-f0d9-b13bebb1a9e9"
      },
      "outputs": [
        {
          "name": "stdout",
          "output_type": "stream",
          "text": [
            "Epoch 1/100\n",
            "63/63 [==============================] - 19s 305ms/step - loss: 0.2004 - accuracy: 0.9105 - val_loss: 0.2931 - val_accuracy: 0.9070\n",
            "Epoch 2/100\n",
            "63/63 [==============================] - 19s 301ms/step - loss: 0.1927 - accuracy: 0.9240 - val_loss: 0.2922 - val_accuracy: 0.9100\n",
            "Epoch 3/100\n",
            "63/63 [==============================] - 19s 299ms/step - loss: 0.1990 - accuracy: 0.9160 - val_loss: 0.2915 - val_accuracy: 0.9100\n",
            "Epoch 4/100\n",
            "63/63 [==============================] - 19s 300ms/step - loss: 0.1980 - accuracy: 0.9120 - val_loss: 0.2901 - val_accuracy: 0.9100\n",
            "Epoch 5/100\n",
            "63/63 [==============================] - 19s 301ms/step - loss: 0.1978 - accuracy: 0.9165 - val_loss: 0.2888 - val_accuracy: 0.9110\n",
            "Epoch 6/100\n",
            "63/63 [==============================] - 19s 301ms/step - loss: 0.2108 - accuracy: 0.9110 - val_loss: 0.2870 - val_accuracy: 0.9090\n",
            "Epoch 7/100\n",
            "63/63 [==============================] - 19s 300ms/step - loss: 0.2007 - accuracy: 0.9225 - val_loss: 0.2859 - val_accuracy: 0.9080\n",
            "Epoch 8/100\n",
            "63/63 [==============================] - 19s 300ms/step - loss: 0.1975 - accuracy: 0.9220 - val_loss: 0.2848 - val_accuracy: 0.9070\n",
            "Epoch 9/100\n",
            "63/63 [==============================] - 19s 300ms/step - loss: 0.2077 - accuracy: 0.9125 - val_loss: 0.2842 - val_accuracy: 0.9050\n",
            "Epoch 10/100\n",
            "63/63 [==============================] - 19s 301ms/step - loss: 0.1912 - accuracy: 0.9205 - val_loss: 0.2838 - val_accuracy: 0.9040\n",
            "Epoch 11/100\n",
            "63/63 [==============================] - 19s 300ms/step - loss: 0.1946 - accuracy: 0.9145 - val_loss: 0.2837 - val_accuracy: 0.9060\n",
            "Epoch 12/100\n",
            "63/63 [==============================] - 19s 299ms/step - loss: 0.2092 - accuracy: 0.9100 - val_loss: 0.2829 - val_accuracy: 0.9060\n",
            "Epoch 13/100\n",
            "63/63 [==============================] - 19s 300ms/step - loss: 0.1908 - accuracy: 0.9190 - val_loss: 0.2828 - val_accuracy: 0.9070\n",
            "Epoch 14/100\n",
            "63/63 [==============================] - 19s 300ms/step - loss: 0.1920 - accuracy: 0.9305 - val_loss: 0.2828 - val_accuracy: 0.9050\n",
            "Epoch 15/100\n",
            "63/63 [==============================] - 19s 305ms/step - loss: 0.2048 - accuracy: 0.9140 - val_loss: 0.2822 - val_accuracy: 0.9020\n",
            "Epoch 16/100\n",
            "63/63 [==============================] - 19s 303ms/step - loss: 0.1965 - accuracy: 0.9195 - val_loss: 0.2824 - val_accuracy: 0.9060\n",
            "Epoch 17/100\n",
            "63/63 [==============================] - 19s 299ms/step - loss: 0.1908 - accuracy: 0.9235 - val_loss: 0.2824 - val_accuracy: 0.9060\n",
            "Epoch 18/100\n",
            "63/63 [==============================] - 19s 300ms/step - loss: 0.1784 - accuracy: 0.9265 - val_loss: 0.2825 - val_accuracy: 0.9030\n",
            "Epoch 19/100\n",
            "63/63 [==============================] - 19s 300ms/step - loss: 0.1872 - accuracy: 0.9235 - val_loss: 0.2828 - val_accuracy: 0.9040\n",
            "Epoch 20/100\n",
            "63/63 [==============================] - 19s 297ms/step - loss: 0.1857 - accuracy: 0.9245 - val_loss: 0.2831 - val_accuracy: 0.9040\n",
            "Epoch 21/100\n",
            "63/63 [==============================] - 19s 300ms/step - loss: 0.1911 - accuracy: 0.9205 - val_loss: 0.2837 - val_accuracy: 0.9040\n",
            "Epoch 22/100\n",
            "63/63 [==============================] - 19s 298ms/step - loss: 0.1992 - accuracy: 0.9185 - val_loss: 0.2827 - val_accuracy: 0.9070\n",
            "Epoch 23/100\n",
            "63/63 [==============================] - 19s 303ms/step - loss: 0.2075 - accuracy: 0.9135 - val_loss: 0.2826 - val_accuracy: 0.9070\n",
            "Epoch 24/100\n",
            "63/63 [==============================] - 19s 301ms/step - loss: 0.1964 - accuracy: 0.9205 - val_loss: 0.2822 - val_accuracy: 0.9050\n",
            "Epoch 25/100\n",
            "63/63 [==============================] - 19s 296ms/step - loss: 0.1815 - accuracy: 0.9175 - val_loss: 0.2821 - val_accuracy: 0.9060\n",
            "Epoch 26/100\n",
            "63/63 [==============================] - 19s 299ms/step - loss: 0.1768 - accuracy: 0.9230 - val_loss: 0.2823 - val_accuracy: 0.9040\n",
            "Epoch 27/100\n",
            "63/63 [==============================] - 19s 298ms/step - loss: 0.1739 - accuracy: 0.9340 - val_loss: 0.2826 - val_accuracy: 0.9070\n",
            "Epoch 28/100\n",
            "63/63 [==============================] - 19s 298ms/step - loss: 0.1982 - accuracy: 0.9205 - val_loss: 0.2825 - val_accuracy: 0.9080\n",
            "Epoch 29/100\n",
            "63/63 [==============================] - 19s 299ms/step - loss: 0.1887 - accuracy: 0.9195 - val_loss: 0.2825 - val_accuracy: 0.9050\n",
            "Epoch 30/100\n",
            "63/63 [==============================] - 19s 296ms/step - loss: 0.1878 - accuracy: 0.9215 - val_loss: 0.2828 - val_accuracy: 0.9060\n",
            "Epoch 31/100\n",
            "63/63 [==============================] - 19s 299ms/step - loss: 0.1836 - accuracy: 0.9175 - val_loss: 0.2826 - val_accuracy: 0.9030\n",
            "Epoch 32/100\n",
            "63/63 [==============================] - 19s 300ms/step - loss: 0.1918 - accuracy: 0.9175 - val_loss: 0.2824 - val_accuracy: 0.9040\n",
            "Epoch 33/100\n",
            "63/63 [==============================] - 19s 297ms/step - loss: 0.1895 - accuracy: 0.9225 - val_loss: 0.2822 - val_accuracy: 0.9070\n",
            "Epoch 34/100\n",
            "63/63 [==============================] - 19s 297ms/step - loss: 0.1964 - accuracy: 0.9215 - val_loss: 0.2822 - val_accuracy: 0.9030\n",
            "Epoch 35/100\n",
            "63/63 [==============================] - 19s 298ms/step - loss: 0.1941 - accuracy: 0.9260 - val_loss: 0.2821 - val_accuracy: 0.9040\n",
            "Epoch 36/100\n",
            "63/63 [==============================] - 19s 297ms/step - loss: 0.1889 - accuracy: 0.9285 - val_loss: 0.2824 - val_accuracy: 0.9040\n",
            "Epoch 37/100\n",
            "63/63 [==============================] - 19s 297ms/step - loss: 0.1867 - accuracy: 0.9200 - val_loss: 0.2822 - val_accuracy: 0.9030\n",
            "Epoch 38/100\n",
            "63/63 [==============================] - 19s 299ms/step - loss: 0.1924 - accuracy: 0.9205 - val_loss: 0.2825 - val_accuracy: 0.9030\n",
            "Epoch 39/100\n",
            "63/63 [==============================] - 19s 295ms/step - loss: 0.1889 - accuracy: 0.9235 - val_loss: 0.2824 - val_accuracy: 0.9030\n",
            "Epoch 40/100\n",
            "63/63 [==============================] - 19s 298ms/step - loss: 0.1902 - accuracy: 0.9170 - val_loss: 0.2824 - val_accuracy: 0.9040\n",
            "Epoch 41/100\n",
            "63/63 [==============================] - 19s 298ms/step - loss: 0.1966 - accuracy: 0.9145 - val_loss: 0.2814 - val_accuracy: 0.9040\n",
            "Epoch 42/100\n",
            "63/63 [==============================] - 19s 297ms/step - loss: 0.1792 - accuracy: 0.9270 - val_loss: 0.2816 - val_accuracy: 0.9050\n",
            "Epoch 43/100\n",
            "63/63 [==============================] - 19s 298ms/step - loss: 0.1732 - accuracy: 0.9305 - val_loss: 0.2820 - val_accuracy: 0.9080\n",
            "Epoch 44/100\n",
            "63/63 [==============================] - 19s 297ms/step - loss: 0.1871 - accuracy: 0.9245 - val_loss: 0.2819 - val_accuracy: 0.9090\n",
            "Epoch 45/100\n",
            "63/63 [==============================] - 19s 295ms/step - loss: 0.1866 - accuracy: 0.9255 - val_loss: 0.2820 - val_accuracy: 0.9080\n",
            "Epoch 46/100\n",
            "63/63 [==============================] - 19s 298ms/step - loss: 0.1764 - accuracy: 0.9285 - val_loss: 0.2824 - val_accuracy: 0.9080\n",
            "Epoch 47/100\n",
            "63/63 [==============================] - 19s 298ms/step - loss: 0.1888 - accuracy: 0.9220 - val_loss: 0.2821 - val_accuracy: 0.9070\n",
            "Epoch 48/100\n",
            "63/63 [==============================] - 19s 303ms/step - loss: 0.2026 - accuracy: 0.9205 - val_loss: 0.2821 - val_accuracy: 0.9080\n",
            "Epoch 49/100\n",
            "63/63 [==============================] - 19s 296ms/step - loss: 0.1966 - accuracy: 0.9205 - val_loss: 0.2817 - val_accuracy: 0.9070\n",
            "Epoch 50/100\n",
            "63/63 [==============================] - 19s 295ms/step - loss: 0.1954 - accuracy: 0.9215 - val_loss: 0.2816 - val_accuracy: 0.9070\n",
            "Epoch 51/100\n",
            "63/63 [==============================] - 19s 298ms/step - loss: 0.1956 - accuracy: 0.9160 - val_loss: 0.2817 - val_accuracy: 0.9040\n",
            "Epoch 52/100\n",
            "63/63 [==============================] - 19s 294ms/step - loss: 0.1980 - accuracy: 0.9190 - val_loss: 0.2813 - val_accuracy: 0.9050\n",
            "Epoch 53/100\n",
            "63/63 [==============================] - 19s 294ms/step - loss: 0.2092 - accuracy: 0.9075 - val_loss: 0.2810 - val_accuracy: 0.9060\n",
            "Epoch 54/100\n",
            "63/63 [==============================] - 19s 299ms/step - loss: 0.2063 - accuracy: 0.9135 - val_loss: 0.2803 - val_accuracy: 0.9070\n",
            "Epoch 55/100\n",
            "63/63 [==============================] - 19s 295ms/step - loss: 0.1850 - accuracy: 0.9230 - val_loss: 0.2810 - val_accuracy: 0.9050\n",
            "Epoch 56/100\n",
            "63/63 [==============================] - 19s 297ms/step - loss: 0.1944 - accuracy: 0.9190 - val_loss: 0.2808 - val_accuracy: 0.9060\n",
            "Epoch 57/100\n",
            "63/63 [==============================] - 18s 294ms/step - loss: 0.1939 - accuracy: 0.9255 - val_loss: 0.2808 - val_accuracy: 0.9060\n",
            "Epoch 58/100\n",
            "63/63 [==============================] - 19s 295ms/step - loss: 0.1970 - accuracy: 0.9175 - val_loss: 0.2808 - val_accuracy: 0.9060\n",
            "Epoch 59/100\n",
            "63/63 [==============================] - 19s 296ms/step - loss: 0.1938 - accuracy: 0.9225 - val_loss: 0.2809 - val_accuracy: 0.9060\n",
            "Epoch 60/100\n",
            "63/63 [==============================] - 19s 295ms/step - loss: 0.1865 - accuracy: 0.9220 - val_loss: 0.2811 - val_accuracy: 0.9070\n",
            "Epoch 61/100\n",
            "63/63 [==============================] - 19s 296ms/step - loss: 0.1950 - accuracy: 0.9195 - val_loss: 0.2808 - val_accuracy: 0.9070\n",
            "Epoch 62/100\n",
            "63/63 [==============================] - 19s 294ms/step - loss: 0.1787 - accuracy: 0.9285 - val_loss: 0.2812 - val_accuracy: 0.9070\n",
            "Epoch 63/100\n",
            "63/63 [==============================] - 19s 297ms/step - loss: 0.1655 - accuracy: 0.9335 - val_loss: 0.2820 - val_accuracy: 0.9070\n",
            "Epoch 64/100\n",
            "63/63 [==============================] - 19s 301ms/step - loss: 0.1852 - accuracy: 0.9225 - val_loss: 0.2827 - val_accuracy: 0.9040\n",
            "Epoch 65/100\n",
            "63/63 [==============================] - 19s 295ms/step - loss: 0.2006 - accuracy: 0.9245 - val_loss: 0.2823 - val_accuracy: 0.9060\n",
            "Epoch 66/100\n",
            "63/63 [==============================] - 19s 296ms/step - loss: 0.1842 - accuracy: 0.9360 - val_loss: 0.2827 - val_accuracy: 0.9080\n",
            "Epoch 67/100\n",
            "63/63 [==============================] - 19s 296ms/step - loss: 0.1835 - accuracy: 0.9320 - val_loss: 0.2829 - val_accuracy: 0.9070\n",
            "Epoch 68/100\n",
            "63/63 [==============================] - 19s 296ms/step - loss: 0.1947 - accuracy: 0.9255 - val_loss: 0.2825 - val_accuracy: 0.9060\n",
            "Epoch 69/100\n",
            "63/63 [==============================] - 19s 296ms/step - loss: 0.1828 - accuracy: 0.9325 - val_loss: 0.2824 - val_accuracy: 0.9050\n",
            "Epoch 70/100\n",
            "63/63 [==============================] - 18s 292ms/step - loss: 0.1851 - accuracy: 0.9250 - val_loss: 0.2822 - val_accuracy: 0.9050\n",
            "Epoch 71/100\n",
            "63/63 [==============================] - 19s 300ms/step - loss: 0.1721 - accuracy: 0.9340 - val_loss: 0.2826 - val_accuracy: 0.9030\n",
            "Epoch 72/100\n",
            "63/63 [==============================] - 19s 297ms/step - loss: 0.1855 - accuracy: 0.9210 - val_loss: 0.2830 - val_accuracy: 0.9030\n",
            "Epoch 73/100\n",
            "63/63 [==============================] - 19s 302ms/step - loss: 0.1809 - accuracy: 0.9285 - val_loss: 0.2824 - val_accuracy: 0.9050\n",
            "Epoch 74/100\n",
            "63/63 [==============================] - 19s 298ms/step - loss: 0.1882 - accuracy: 0.9225 - val_loss: 0.2824 - val_accuracy: 0.9040\n",
            "Epoch 75/100\n",
            "63/63 [==============================] - 19s 299ms/step - loss: 0.1938 - accuracy: 0.9205 - val_loss: 0.2826 - val_accuracy: 0.9050\n",
            "Epoch 76/100\n",
            "63/63 [==============================] - 19s 298ms/step - loss: 0.1914 - accuracy: 0.9250 - val_loss: 0.2822 - val_accuracy: 0.9070\n",
            "Epoch 77/100\n",
            "63/63 [==============================] - 18s 293ms/step - loss: 0.1887 - accuracy: 0.9215 - val_loss: 0.2823 - val_accuracy: 0.9070\n",
            "Epoch 78/100\n",
            "63/63 [==============================] - 19s 295ms/step - loss: 0.1858 - accuracy: 0.9230 - val_loss: 0.2822 - val_accuracy: 0.9050\n",
            "Epoch 79/100\n",
            "63/63 [==============================] - 19s 297ms/step - loss: 0.1772 - accuracy: 0.9295 - val_loss: 0.2827 - val_accuracy: 0.9040\n",
            "Epoch 80/100\n",
            "63/63 [==============================] - 19s 295ms/step - loss: 0.1764 - accuracy: 0.9290 - val_loss: 0.2832 - val_accuracy: 0.9060\n",
            "Epoch 81/100\n",
            "63/63 [==============================] - 19s 299ms/step - loss: 0.1905 - accuracy: 0.9225 - val_loss: 0.2830 - val_accuracy: 0.9030\n",
            "Epoch 82/100\n",
            "63/63 [==============================] - 19s 294ms/step - loss: 0.1901 - accuracy: 0.9250 - val_loss: 0.2828 - val_accuracy: 0.9050\n",
            "Epoch 83/100\n",
            "63/63 [==============================] - 18s 293ms/step - loss: 0.1826 - accuracy: 0.9255 - val_loss: 0.2832 - val_accuracy: 0.9060\n",
            "Epoch 84/100\n",
            "63/63 [==============================] - 19s 295ms/step - loss: 0.1869 - accuracy: 0.9215 - val_loss: 0.2833 - val_accuracy: 0.9070\n",
            "Epoch 85/100\n",
            "63/63 [==============================] - 19s 295ms/step - loss: 0.1812 - accuracy: 0.9295 - val_loss: 0.2829 - val_accuracy: 0.9060\n",
            "Epoch 86/100\n",
            "63/63 [==============================] - 19s 298ms/step - loss: 0.1821 - accuracy: 0.9275 - val_loss: 0.2832 - val_accuracy: 0.9050\n",
            "Epoch 87/100\n",
            "63/63 [==============================] - 19s 295ms/step - loss: 0.1681 - accuracy: 0.9305 - val_loss: 0.2839 - val_accuracy: 0.9050\n",
            "Epoch 88/100\n",
            "63/63 [==============================] - 19s 295ms/step - loss: 0.1880 - accuracy: 0.9255 - val_loss: 0.2841 - val_accuracy: 0.9060\n",
            "Epoch 89/100\n",
            "63/63 [==============================] - 19s 299ms/step - loss: 0.1871 - accuracy: 0.9260 - val_loss: 0.2837 - val_accuracy: 0.9070\n",
            "Epoch 90/100\n",
            "63/63 [==============================] - 18s 292ms/step - loss: 0.1874 - accuracy: 0.9240 - val_loss: 0.2839 - val_accuracy: 0.9070\n",
            "Epoch 91/100\n",
            "63/63 [==============================] - 19s 295ms/step - loss: 0.1880 - accuracy: 0.9325 - val_loss: 0.2837 - val_accuracy: 0.9080\n",
            "Epoch 92/100\n",
            "63/63 [==============================] - 19s 296ms/step - loss: 0.1843 - accuracy: 0.9240 - val_loss: 0.2834 - val_accuracy: 0.9100\n",
            "Epoch 93/100\n",
            "63/63 [==============================] - 19s 296ms/step - loss: 0.1823 - accuracy: 0.9250 - val_loss: 0.2836 - val_accuracy: 0.9100\n",
            "Epoch 94/100\n",
            "63/63 [==============================] - 19s 297ms/step - loss: 0.1845 - accuracy: 0.9235 - val_loss: 0.2832 - val_accuracy: 0.9070\n",
            "Epoch 95/100\n",
            "63/63 [==============================] - 19s 296ms/step - loss: 0.1940 - accuracy: 0.9200 - val_loss: 0.2833 - val_accuracy: 0.9070\n",
            "Epoch 96/100\n",
            "63/63 [==============================] - 19s 298ms/step - loss: 0.1864 - accuracy: 0.9265 - val_loss: 0.2834 - val_accuracy: 0.9080\n",
            "Epoch 97/100\n",
            "63/63 [==============================] - 19s 297ms/step - loss: 0.1865 - accuracy: 0.9260 - val_loss: 0.2833 - val_accuracy: 0.9070\n",
            "Epoch 98/100\n",
            "63/63 [==============================] - 19s 298ms/step - loss: 0.1831 - accuracy: 0.9240 - val_loss: 0.2836 - val_accuracy: 0.9070\n",
            "Epoch 99/100\n",
            "63/63 [==============================] - 19s 298ms/step - loss: 0.1814 - accuracy: 0.9350 - val_loss: 0.2843 - val_accuracy: 0.9060\n",
            "Epoch 100/100\n",
            "63/63 [==============================] - 19s 297ms/step - loss: 0.1898 - accuracy: 0.9225 - val_loss: 0.2846 - val_accuracy: 0.9060\n"
          ]
        }
      ],
      "source": [
        "# Note: running this code can take up to an hour\n",
        "model4_history = model4.fit(\n",
        "      train_generator,\n",
        "      epochs=100,\n",
        "      validation_data=validation_generator)"
      ]
    },
    {
      "cell_type": "markdown",
      "metadata": {
        "id": "hC7kQvLSv9_j"
      },
      "source": [
        "Let's assess our fine-tuned model on the test set."
      ]
    },
    {
      "cell_type": "code",
      "execution_count": null,
      "metadata": {
        "colab": {
          "base_uri": "https://localhost:8080/",
          "height": 72
        },
        "id": "g8x55SP1dJoB",
        "outputId": "08749a32-e3fd-47c4-df11-2595890e1ab5"
      },
      "outputs": [
        {
          "name": "stdout",
          "output_type": "stream",
          "text": [
            "Found 1000 images belonging to 2 classes.\n",
            "32/32 [==============================] - 445s 14s/step - loss: 0.2674 - accuracy: 0.9110\n"
          ]
        },
        {
          "data": {
            "text/plain": [
              "[0.2673989236354828, 0.9110000133514404]"
            ]
          },
          "execution_count": 76,
          "metadata": {
            "tags": []
          },
          "output_type": "execute_result"
        }
      ],
      "source": [
        "test_datagen = ImageDataGenerator(rescale=1./255)\n",
        "\n",
        "test_generator = test_datagen.flow_from_directory(\n",
        "        test_dir,\n",
        "        target_size=(150, 150),\n",
        "        batch_size=32,\n",
        "        class_mode='binary')\n",
        "\n",
        "model4.evaluate(test_generator)"
      ]
    },
    {
      "cell_type": "markdown",
      "metadata": {
        "id": "ymMsPX0RnplO"
      },
      "source": [
        "Our test accuracy increased to 91.1%, about one percent point higher than our previous model. In this case, fine-tuning has helped us to slightly improve the model."
      ]
    }
  ],
  "metadata": {
    "accelerator": "GPU",
    "colab": {
      "provenance": []
    },
    "kernelspec": {
      "display_name": "Python 3",
      "language": "python",
      "name": "python3"
    },
    "language_info": {
      "codemirror_mode": {
        "name": "ipython",
        "version": 3
      },
      "file_extension": ".py",
      "mimetype": "text/x-python",
      "name": "python",
      "nbconvert_exporter": "python",
      "pygments_lexer": "ipython3",
      "version": "3.5.2"
    }
  },
  "nbformat": 4,
  "nbformat_minor": 0
}
